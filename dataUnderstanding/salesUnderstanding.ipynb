{
 "cells": [
  {
   "attachments": {},
   "cell_type": "markdown",
   "metadata": {},
   "source": [
    "# Data Exploration\n",
    "## sales.csv"
   ]
  },
  {
   "cell_type": "code",
   "execution_count": 1,
   "metadata": {},
   "outputs": [
    {
     "data": {
      "text/plain": [
       "(8886058, 14)"
      ]
     },
     "execution_count": 1,
     "metadata": {},
     "output_type": "execute_result"
    }
   ],
   "source": [
    "# Import pandas library\n",
    "import pandas as pd\n",
    "sales = pd.read_csv(\"https://media.githubusercontent.com/media/E-man85/projectII/main/raw_data/sales.csv\",\\\n",
    "                    dtype={'promo_bin_2': str, 'promo_discount_type_2': str})\n",
    "# Dimensions\n",
    "sales.shape"
   ]
  },
  {
   "cell_type": "markdown",
   "metadata": {},
   "source": [
    "## Overview"
   ]
  },
  {
   "cell_type": "code",
   "execution_count": 2,
   "metadata": {},
   "outputs": [
    {
     "name": "stdout",
     "output_type": "stream",
     "text": [
      "<class 'pandas.core.frame.DataFrame'>\n",
      "RangeIndex: 8886058 entries, 0 to 8886057\n",
      "Data columns (total 14 columns):\n",
      " #   Column                 Dtype  \n",
      "---  ------                 -----  \n",
      " 0   Unnamed: 0             int64  \n",
      " 1   store_id               object \n",
      " 2   product_id             object \n",
      " 3   date                   object \n",
      " 4   sales                  float64\n",
      " 5   revenue                float64\n",
      " 6   stock                  float64\n",
      " 7   price                  float64\n",
      " 8   promo_type_1           object \n",
      " 9   promo_bin_1            object \n",
      " 10  promo_type_2           object \n",
      " 11  promo_bin_2            object \n",
      " 12  promo_discount_2       float64\n",
      " 13  promo_discount_type_2  object \n",
      "dtypes: float64(5), int64(1), object(8)\n",
      "memory usage: 949.1+ MB\n"
     ]
    }
   ],
   "source": [
    "# Global Information\n",
    "sales.info()"
   ]
  },
  {
   "cell_type": "code",
   "execution_count": 3,
   "metadata": {},
   "outputs": [
    {
     "data": {
      "text/plain": [
       "False"
      ]
     },
     "execution_count": 3,
     "metadata": {},
     "output_type": "execute_result"
    }
   ],
   "source": [
    "# Duplicate rows\n",
    "sales.duplicated().any()"
   ]
  },
  {
   "attachments": {},
   "cell_type": "markdown",
   "metadata": {},
   "source": [
    "### Column Unnamed: 0"
   ]
  },
  {
   "cell_type": "code",
   "execution_count": 4,
   "metadata": {},
   "outputs": [
    {
     "name": "stdout",
     "output_type": "stream",
     "text": [
      "False\n",
      "False\n",
      "8886058\n",
      "count    8.886058e+06\n",
      "mean     4.443030e+06\n",
      "std      2.565184e+06\n",
      "min      1.000000e+00\n",
      "25%      2.221515e+06\n",
      "50%      4.443030e+06\n",
      "75%      6.664544e+06\n",
      "max      8.886058e+06\n",
      "Name: Unnamed: 0, dtype: float64\n"
     ]
    }
   ],
   "source": [
    "# Missing Values\n",
    "print(sales['Unnamed: 0'].isnull().any())\n",
    "# Duplicate rows\n",
    "print(sales['Unnamed: 0'].duplicated().any())\n",
    "# Unique values\n",
    "print(sales['Unnamed: 0'].nunique())\n",
    "# Statistics\n",
    "print(sales['Unnamed: 0'].describe())"
   ]
  },
  {
   "cell_type": "code",
   "execution_count": 5,
   "metadata": {},
   "outputs": [
    {
     "data": {
      "text/plain": [
       "array([], dtype=int32)"
      ]
     },
     "execution_count": 5,
     "metadata": {},
     "output_type": "execute_result"
    }
   ],
   "source": [
    "# Verificar se não existem registos em falta tendo em conta a sequencia numerica da coluna Unnamed: 0\n",
    "import numpy as np\n",
    "# converter listas de valores em arrays uma vez que são superiores a 8 milhoes de valores e o calculo de listas exige muitos recursos\n",
    "list_id = np.array([id for id in range(1,sales.shape[0]+1)])\n",
    "values_sales_id = np.array(sales.iloc[:, 0].tolist())\n",
    "# np.setxor1d() (Find the set exclusive-or of two arrays.)\n",
    "np.setxor1d(list_id, values_sales_id)"
   ]
  },
  {
   "attachments": {},
   "cell_type": "markdown",
   "metadata": {},
   "source": [
    "### Column store_id"
   ]
  },
  {
   "cell_type": "code",
   "execution_count": 6,
   "metadata": {},
   "outputs": [
    {
     "name": "stdout",
     "output_type": "stream",
     "text": [
      "False\n",
      "True\n",
      "63\n",
      "count     8886058\n",
      "unique         63\n",
      "top         S0038\n",
      "freq       334082\n",
      "Name: store_id, dtype: object\n"
     ]
    }
   ],
   "source": [
    "# Missing Values\n",
    "print(sales['store_id'].isnull().any())\n",
    "# Duplicate rows\n",
    "print(sales['store_id'].duplicated().any())\n",
    "# Unique values\n",
    "print(sales['store_id'].nunique())\n",
    "# Statistics\n",
    "print(sales['store_id'].describe())"
   ]
  },
  {
   "attachments": {},
   "cell_type": "markdown",
   "metadata": {},
   "source": [
    "### Column product_id"
   ]
  },
  {
   "cell_type": "code",
   "execution_count": 7,
   "metadata": {},
   "outputs": [
    {
     "name": "stdout",
     "output_type": "stream",
     "text": [
      "False\n",
      "True\n",
      "615\n",
      "count     8886058\n",
      "unique        615\n",
      "top         P0664\n",
      "freq        59051\n",
      "Name: product_id, dtype: object\n"
     ]
    }
   ],
   "source": [
    "# Missing Values\n",
    "print(sales['product_id'].isnull().any())\n",
    "# Duplicate rows\n",
    "print(sales['product_id'].duplicated().any())\n",
    "# Unique values\n",
    "print(sales['product_id'].nunique())\n",
    "# Statistics\n",
    "print(sales['product_id'].describe())"
   ]
  },
  {
   "attachments": {},
   "cell_type": "markdown",
   "metadata": {},
   "source": [
    "### Column date"
   ]
  },
  {
   "cell_type": "code",
   "execution_count": 8,
   "metadata": {},
   "outputs": [
    {
     "name": "stdout",
     "output_type": "stream",
     "text": [
      "False\n",
      "True\n",
      "1033\n",
      "count        8886058\n",
      "unique          1033\n",
      "top       2019-08-10\n",
      "freq           10090\n",
      "Name: date, dtype: object\n"
     ]
    }
   ],
   "source": [
    "# Missing Values\n",
    "print(sales['date'].isnull().any())\n",
    "# Duplicate rows\n",
    "print(sales['date'].duplicated().any())\n",
    "# Unique values\n",
    "print(sales['date'].nunique())\n",
    "# Statistics\n",
    "print(sales['date'].describe())"
   ]
  },
  {
   "attachments": {},
   "cell_type": "markdown",
   "metadata": {},
   "source": [
    "### Column sales"
   ]
  },
  {
   "cell_type": "code",
   "execution_count": 9,
   "metadata": {},
   "outputs": [
    {
     "name": "stdout",
     "output_type": "stream",
     "text": [
      "True\n",
      "True\n",
      "5435\n",
      "count    8.583762e+06\n",
      "mean     4.734080e-01\n",
      "std      2.129059e+01\n",
      "min      0.000000e+00\n",
      "25%      0.000000e+00\n",
      "50%      0.000000e+00\n",
      "75%      0.000000e+00\n",
      "max      4.330100e+04\n",
      "Name: sales, dtype: float64\n"
     ]
    }
   ],
   "source": [
    "# Missing Values\n",
    "print(sales['sales'].isnull().any())\n",
    "# Duplicate rows\n",
    "print(sales['sales'].duplicated().any())\n",
    "# Unique values\n",
    "print(sales['sales'].nunique())\n",
    "# Statistics \n",
    "print(sales['sales'].describe())"
   ]
  },
  {
   "attachments": {},
   "cell_type": "markdown",
   "metadata": {},
   "source": [
    "### Column revenue"
   ]
  },
  {
   "cell_type": "code",
   "execution_count": 10,
   "metadata": {},
   "outputs": [
    {
     "name": "stdout",
     "output_type": "stream",
     "text": [
      "True\n",
      "True\n",
      "12155\n",
      "count    8.583762e+06\n",
      "mean     2.285173e+00\n",
      "std      5.406806e+01\n",
      "min      0.000000e+00\n",
      "25%      0.000000e+00\n",
      "50%      0.000000e+00\n",
      "75%      0.000000e+00\n",
      "max      8.419796e+04\n",
      "Name: revenue, dtype: float64\n"
     ]
    }
   ],
   "source": [
    "# Missing Values\n",
    "print(sales['revenue'].isnull().any())\n",
    "# Duplicate rows\n",
    "print(sales['revenue'].duplicated().any())\n",
    "# Unique values\n",
    "print(sales['revenue'].nunique())\n",
    "# Statistics\n",
    "print(sales['revenue'].describe())"
   ]
  },
  {
   "cell_type": "markdown",
   "metadata": {},
   "source": [
    "### Column stock"
   ]
  },
  {
   "cell_type": "code",
   "execution_count": 11,
   "metadata": {},
   "outputs": [
    {
     "name": "stdout",
     "output_type": "stream",
     "text": [
      "True\n",
      "True\n",
      "9039\n",
      "count    8.583762e+06\n",
      "mean     1.600575e+01\n",
      "std      3.751692e+01\n",
      "min      0.000000e+00\n",
      "25%      4.000000e+00\n",
      "50%      8.000000e+00\n",
      "75%      1.700000e+01\n",
      "max      4.655000e+03\n",
      "Name: stock, dtype: float64\n"
     ]
    }
   ],
   "source": [
    "# Missing Values\n",
    "print(sales['stock'].isnull().any())\n",
    "# Duplicate rows\n",
    "print(sales['stock'].duplicated().any())\n",
    "# Unique values\n",
    "print(sales['stock'].nunique())\n",
    "# Statistics \n",
    "print(sales['stock'].describe())"
   ]
  },
  {
   "attachments": {},
   "cell_type": "markdown",
   "metadata": {},
   "source": [
    "### Column price"
   ]
  },
  {
   "cell_type": "code",
   "execution_count": 12,
   "metadata": {},
   "outputs": [
    {
     "name": "stdout",
     "output_type": "stream",
     "text": [
      "True\n",
      "True\n",
      "606\n",
      "count    8.794677e+06\n",
      "mean     1.575377e+01\n",
      "std      3.277869e+01\n",
      "min      1.000000e-02\n",
      "25%      3.450000e+00\n",
      "50%      8.000000e+00\n",
      "75%      1.695000e+01\n",
      "max      1.599000e+03\n",
      "Name: price, dtype: float64\n"
     ]
    }
   ],
   "source": [
    "# Missing Values\n",
    "print(sales['price'].isnull().any())\n",
    "# Duplicate rows\n",
    "print(sales['price'].duplicated().any())\n",
    "# Unique values\n",
    "print(sales['price'].nunique())\n",
    "# Statistics \n",
    "print(sales['price'].describe())"
   ]
  },
  {
   "cell_type": "markdown",
   "metadata": {},
   "source": [
    "### Column promo_type_1"
   ]
  },
  {
   "cell_type": "code",
   "execution_count": 13,
   "metadata": {},
   "outputs": [
    {
     "name": "stdout",
     "output_type": "stream",
     "text": [
      "False\n",
      "True\n",
      "17\n",
      "count     8886058\n",
      "unique         17\n",
      "top          PR14\n",
      "freq      7653515\n",
      "Name: promo_type_1, dtype: object\n"
     ]
    }
   ],
   "source": [
    "# Missing Values\n",
    "print(sales['promo_type_1'].isnull().any())\n",
    "# Duplicate rows\n",
    "print(sales['promo_type_1'].duplicated().any())\n",
    "# Unique values\n",
    "print(sales['promo_type_1'].nunique())\n",
    "# Statistics  \n",
    "print(sales['promo_type_1'].describe())"
   ]
  },
  {
   "attachments": {},
   "cell_type": "markdown",
   "metadata": {},
   "source": [
    "### Column promo_type_2"
   ]
  },
  {
   "cell_type": "code",
   "execution_count": 14,
   "metadata": {},
   "outputs": [
    {
     "name": "stdout",
     "output_type": "stream",
     "text": [
      "False\n",
      "True\n",
      "4\n",
      "count     8886058\n",
      "unique          4\n",
      "top          PR03\n",
      "freq      8873337\n",
      "Name: promo_type_2, dtype: object\n"
     ]
    }
   ],
   "source": [
    "# Missing Values\n",
    "print(sales['promo_type_2'].isnull().any())\n",
    "# Duplicate rows\n",
    "print(sales['promo_type_2'].duplicated().any())\n",
    "# Unique values\n",
    "print(sales['promo_type_2'].nunique())\n",
    "# Statistics \n",
    "print(sales['promo_type_2'].describe())"
   ]
  },
  {
   "attachments": {},
   "cell_type": "markdown",
   "metadata": {},
   "source": [
    "### Column promo_bin_1"
   ]
  },
  {
   "cell_type": "code",
   "execution_count": 15,
   "metadata": {},
   "outputs": [
    {
     "name": "stdout",
     "output_type": "stream",
     "text": [
      "True\n",
      "True\n",
      "5\n",
      "count     1232543\n",
      "unique          5\n",
      "top       verylow\n",
      "freq       514398\n",
      "Name: promo_bin_1, dtype: object\n"
     ]
    }
   ],
   "source": [
    "# Missing Values\n",
    "print(sales['promo_bin_1'].isnull().any())\n",
    "# Duplicate rows\n",
    "print(sales['promo_bin_1'].duplicated().any())\n",
    "# Unique values\n",
    "print(sales['promo_bin_1'].nunique())\n",
    "# Statistics \n",
    "print(sales['promo_bin_1'].describe())"
   ]
  },
  {
   "cell_type": "markdown",
   "metadata": {},
   "source": [
    "### Column promo_bin_2"
   ]
  },
  {
   "cell_type": "code",
   "execution_count": 16,
   "metadata": {},
   "outputs": [
    {
     "name": "stdout",
     "output_type": "stream",
     "text": [
      "True\n",
      "True\n",
      "3\n",
      "count       12721\n",
      "unique          3\n",
      "top       verylow\n",
      "freq         6441\n",
      "Name: promo_bin_2, dtype: object\n"
     ]
    }
   ],
   "source": [
    "# Missing Values\n",
    "print(sales['promo_bin_2'].isnull().any())\n",
    "# Duplicate rows\n",
    "print(sales['promo_bin_2'].duplicated().any())\n",
    "# Unique values\n",
    "print(sales['promo_bin_2'].nunique())\n",
    "# Statistics \n",
    "print(sales['promo_bin_2'].describe())"
   ]
  },
  {
   "attachments": {},
   "cell_type": "markdown",
   "metadata": {},
   "source": [
    "### Column promo_discount_2"
   ]
  },
  {
   "cell_type": "code",
   "execution_count": 17,
   "metadata": {},
   "outputs": [
    {
     "name": "stdout",
     "output_type": "stream",
     "text": [
      "True\n",
      "True\n",
      "6\n",
      "count    12721.000000\n",
      "mean        30.110605\n",
      "std         11.850900\n",
      "min         16.000000\n",
      "25%         20.000000\n",
      "50%         20.000000\n",
      "75%         35.000000\n",
      "max         50.000000\n",
      "Name: promo_discount_2, dtype: float64\n"
     ]
    }
   ],
   "source": [
    "# Missing Values\n",
    "print(sales['promo_discount_2'].isnull().any())\n",
    "# Duplicate rows\n",
    "print(sales['promo_discount_2'].duplicated().any())\n",
    "# Unique values\n",
    "print(sales['promo_discount_2'].nunique())\n",
    "# Statistics \n",
    "print(sales['promo_discount_2'].describe())"
   ]
  },
  {
   "attachments": {},
   "cell_type": "markdown",
   "metadata": {},
   "source": [
    "### Column promo_discount_type_2"
   ]
  },
  {
   "cell_type": "code",
   "execution_count": 18,
   "metadata": {},
   "outputs": [
    {
     "name": "stdout",
     "output_type": "stream",
     "text": [
      "True\n",
      "True\n",
      "4\n",
      "count     12721\n",
      "unique        4\n",
      "top        PR01\n",
      "freq       3762\n",
      "Name: promo_discount_type_2, dtype: object\n"
     ]
    }
   ],
   "source": [
    "# Missing Values\n",
    "print(sales['promo_discount_type_2'].isnull().any())\n",
    "# Duplicate rows\n",
    "print(sales['promo_discount_type_2'].duplicated().any())\n",
    "# Unique values\n",
    "print(sales['promo_discount_type_2'].nunique())\n",
    "# Statistics  \n",
    "print(sales['promo_discount_type_2'].describe())"
   ]
  },
  {
   "cell_type": "code",
   "execution_count": 19,
   "metadata": {},
   "outputs": [
    {
     "data": {
      "text/html": [
       "<div>\n",
       "<style scoped>\n",
       "    .dataframe tbody tr th:only-of-type {\n",
       "        vertical-align: middle;\n",
       "    }\n",
       "\n",
       "    .dataframe tbody tr th {\n",
       "        vertical-align: top;\n",
       "    }\n",
       "\n",
       "    .dataframe thead th {\n",
       "        text-align: right;\n",
       "    }\n",
       "</style>\n",
       "<table border=\"1\" class=\"dataframe\">\n",
       "  <thead>\n",
       "    <tr style=\"text-align: right;\">\n",
       "      <th></th>\n",
       "      <th>Unnamed: 0</th>\n",
       "      <th>store_id</th>\n",
       "      <th>product_id</th>\n",
       "      <th>date</th>\n",
       "      <th>sales</th>\n",
       "      <th>revenue</th>\n",
       "      <th>stock</th>\n",
       "      <th>price</th>\n",
       "      <th>promo_type_1</th>\n",
       "      <th>promo_bin_1</th>\n",
       "      <th>promo_type_2</th>\n",
       "      <th>promo_bin_2</th>\n",
       "      <th>promo_discount_2</th>\n",
       "      <th>promo_discount_type_2</th>\n",
       "    </tr>\n",
       "  </thead>\n",
       "  <tbody>\n",
       "    <tr>\n",
       "      <th>0</th>\n",
       "      <td>1</td>\n",
       "      <td>S0002</td>\n",
       "      <td>P0001</td>\n",
       "      <td>2017-01-02</td>\n",
       "      <td>0.0</td>\n",
       "      <td>0.00</td>\n",
       "      <td>8.0</td>\n",
       "      <td>6.25</td>\n",
       "      <td>PR14</td>\n",
       "      <td>NaN</td>\n",
       "      <td>PR03</td>\n",
       "      <td>NaN</td>\n",
       "      <td>NaN</td>\n",
       "      <td>NaN</td>\n",
       "    </tr>\n",
       "    <tr>\n",
       "      <th>1</th>\n",
       "      <td>2</td>\n",
       "      <td>S0002</td>\n",
       "      <td>P0005</td>\n",
       "      <td>2017-01-02</td>\n",
       "      <td>0.0</td>\n",
       "      <td>0.00</td>\n",
       "      <td>11.0</td>\n",
       "      <td>33.90</td>\n",
       "      <td>PR14</td>\n",
       "      <td>NaN</td>\n",
       "      <td>PR03</td>\n",
       "      <td>NaN</td>\n",
       "      <td>NaN</td>\n",
       "      <td>NaN</td>\n",
       "    </tr>\n",
       "    <tr>\n",
       "      <th>2</th>\n",
       "      <td>3</td>\n",
       "      <td>S0002</td>\n",
       "      <td>P0011</td>\n",
       "      <td>2017-01-02</td>\n",
       "      <td>0.0</td>\n",
       "      <td>0.00</td>\n",
       "      <td>9.0</td>\n",
       "      <td>49.90</td>\n",
       "      <td>PR14</td>\n",
       "      <td>NaN</td>\n",
       "      <td>PR03</td>\n",
       "      <td>NaN</td>\n",
       "      <td>NaN</td>\n",
       "      <td>NaN</td>\n",
       "    </tr>\n",
       "    <tr>\n",
       "      <th>3</th>\n",
       "      <td>4</td>\n",
       "      <td>S0002</td>\n",
       "      <td>P0015</td>\n",
       "      <td>2017-01-02</td>\n",
       "      <td>1.0</td>\n",
       "      <td>2.41</td>\n",
       "      <td>19.0</td>\n",
       "      <td>2.60</td>\n",
       "      <td>PR14</td>\n",
       "      <td>NaN</td>\n",
       "      <td>PR03</td>\n",
       "      <td>NaN</td>\n",
       "      <td>NaN</td>\n",
       "      <td>NaN</td>\n",
       "    </tr>\n",
       "    <tr>\n",
       "      <th>4</th>\n",
       "      <td>5</td>\n",
       "      <td>S0002</td>\n",
       "      <td>P0017</td>\n",
       "      <td>2017-01-02</td>\n",
       "      <td>0.0</td>\n",
       "      <td>0.00</td>\n",
       "      <td>12.0</td>\n",
       "      <td>1.49</td>\n",
       "      <td>PR14</td>\n",
       "      <td>NaN</td>\n",
       "      <td>PR03</td>\n",
       "      <td>NaN</td>\n",
       "      <td>NaN</td>\n",
       "      <td>NaN</td>\n",
       "    </tr>\n",
       "    <tr>\n",
       "      <th>5</th>\n",
       "      <td>6</td>\n",
       "      <td>S0002</td>\n",
       "      <td>P0018</td>\n",
       "      <td>2017-01-02</td>\n",
       "      <td>1.0</td>\n",
       "      <td>1.81</td>\n",
       "      <td>37.0</td>\n",
       "      <td>1.95</td>\n",
       "      <td>PR14</td>\n",
       "      <td>NaN</td>\n",
       "      <td>PR03</td>\n",
       "      <td>NaN</td>\n",
       "      <td>NaN</td>\n",
       "      <td>NaN</td>\n",
       "    </tr>\n",
       "    <tr>\n",
       "      <th>6</th>\n",
       "      <td>7</td>\n",
       "      <td>S0002</td>\n",
       "      <td>P0024</td>\n",
       "      <td>2017-01-02</td>\n",
       "      <td>0.0</td>\n",
       "      <td>0.00</td>\n",
       "      <td>36.0</td>\n",
       "      <td>1.95</td>\n",
       "      <td>PR14</td>\n",
       "      <td>NaN</td>\n",
       "      <td>PR03</td>\n",
       "      <td>NaN</td>\n",
       "      <td>NaN</td>\n",
       "      <td>NaN</td>\n",
       "    </tr>\n",
       "    <tr>\n",
       "      <th>7</th>\n",
       "      <td>8</td>\n",
       "      <td>S0002</td>\n",
       "      <td>P0035</td>\n",
       "      <td>2017-01-02</td>\n",
       "      <td>2.0</td>\n",
       "      <td>4.54</td>\n",
       "      <td>15.0</td>\n",
       "      <td>2.45</td>\n",
       "      <td>PR14</td>\n",
       "      <td>NaN</td>\n",
       "      <td>PR03</td>\n",
       "      <td>NaN</td>\n",
       "      <td>NaN</td>\n",
       "      <td>NaN</td>\n",
       "    </tr>\n",
       "    <tr>\n",
       "      <th>8</th>\n",
       "      <td>9</td>\n",
       "      <td>S0002</td>\n",
       "      <td>P0046</td>\n",
       "      <td>2017-01-02</td>\n",
       "      <td>0.0</td>\n",
       "      <td>0.00</td>\n",
       "      <td>11.0</td>\n",
       "      <td>34.50</td>\n",
       "      <td>PR14</td>\n",
       "      <td>NaN</td>\n",
       "      <td>PR03</td>\n",
       "      <td>NaN</td>\n",
       "      <td>NaN</td>\n",
       "      <td>NaN</td>\n",
       "    </tr>\n",
       "    <tr>\n",
       "      <th>9</th>\n",
       "      <td>10</td>\n",
       "      <td>S0002</td>\n",
       "      <td>P0051</td>\n",
       "      <td>2017-01-02</td>\n",
       "      <td>7.0</td>\n",
       "      <td>4.54</td>\n",
       "      <td>132.0</td>\n",
       "      <td>0.70</td>\n",
       "      <td>PR14</td>\n",
       "      <td>NaN</td>\n",
       "      <td>PR03</td>\n",
       "      <td>NaN</td>\n",
       "      <td>NaN</td>\n",
       "      <td>NaN</td>\n",
       "    </tr>\n",
       "  </tbody>\n",
       "</table>\n",
       "</div>"
      ],
      "text/plain": [
       "   Unnamed: 0 store_id product_id        date  sales  revenue  stock  price  \\\n",
       "0           1    S0002      P0001  2017-01-02    0.0     0.00    8.0   6.25   \n",
       "1           2    S0002      P0005  2017-01-02    0.0     0.00   11.0  33.90   \n",
       "2           3    S0002      P0011  2017-01-02    0.0     0.00    9.0  49.90   \n",
       "3           4    S0002      P0015  2017-01-02    1.0     2.41   19.0   2.60   \n",
       "4           5    S0002      P0017  2017-01-02    0.0     0.00   12.0   1.49   \n",
       "5           6    S0002      P0018  2017-01-02    1.0     1.81   37.0   1.95   \n",
       "6           7    S0002      P0024  2017-01-02    0.0     0.00   36.0   1.95   \n",
       "7           8    S0002      P0035  2017-01-02    2.0     4.54   15.0   2.45   \n",
       "8           9    S0002      P0046  2017-01-02    0.0     0.00   11.0  34.50   \n",
       "9          10    S0002      P0051  2017-01-02    7.0     4.54  132.0   0.70   \n",
       "\n",
       "  promo_type_1 promo_bin_1 promo_type_2 promo_bin_2  promo_discount_2  \\\n",
       "0         PR14         NaN         PR03         NaN               NaN   \n",
       "1         PR14         NaN         PR03         NaN               NaN   \n",
       "2         PR14         NaN         PR03         NaN               NaN   \n",
       "3         PR14         NaN         PR03         NaN               NaN   \n",
       "4         PR14         NaN         PR03         NaN               NaN   \n",
       "5         PR14         NaN         PR03         NaN               NaN   \n",
       "6         PR14         NaN         PR03         NaN               NaN   \n",
       "7         PR14         NaN         PR03         NaN               NaN   \n",
       "8         PR14         NaN         PR03         NaN               NaN   \n",
       "9         PR14         NaN         PR03         NaN               NaN   \n",
       "\n",
       "  promo_discount_type_2  \n",
       "0                   NaN  \n",
       "1                   NaN  \n",
       "2                   NaN  \n",
       "3                   NaN  \n",
       "4                   NaN  \n",
       "5                   NaN  \n",
       "6                   NaN  \n",
       "7                   NaN  \n",
       "8                   NaN  \n",
       "9                   NaN  "
      ]
     },
     "execution_count": 19,
     "metadata": {},
     "output_type": "execute_result"
    }
   ],
   "source": [
    "# First Rows\n",
    "sales.head(10)"
   ]
  },
  {
   "cell_type": "code",
   "execution_count": 20,
   "metadata": {},
   "outputs": [
    {
     "data": {
      "text/html": [
       "<div>\n",
       "<style scoped>\n",
       "    .dataframe tbody tr th:only-of-type {\n",
       "        vertical-align: middle;\n",
       "    }\n",
       "\n",
       "    .dataframe tbody tr th {\n",
       "        vertical-align: top;\n",
       "    }\n",
       "\n",
       "    .dataframe thead th {\n",
       "        text-align: right;\n",
       "    }\n",
       "</style>\n",
       "<table border=\"1\" class=\"dataframe\">\n",
       "  <thead>\n",
       "    <tr style=\"text-align: right;\">\n",
       "      <th></th>\n",
       "      <th>Unnamed: 0</th>\n",
       "      <th>store_id</th>\n",
       "      <th>product_id</th>\n",
       "      <th>date</th>\n",
       "      <th>sales</th>\n",
       "      <th>revenue</th>\n",
       "      <th>stock</th>\n",
       "      <th>price</th>\n",
       "      <th>promo_type_1</th>\n",
       "      <th>promo_bin_1</th>\n",
       "      <th>promo_type_2</th>\n",
       "      <th>promo_bin_2</th>\n",
       "      <th>promo_discount_2</th>\n",
       "      <th>promo_discount_type_2</th>\n",
       "    </tr>\n",
       "  </thead>\n",
       "  <tbody>\n",
       "    <tr>\n",
       "      <th>8886048</th>\n",
       "      <td>8886049</td>\n",
       "      <td>S0143</td>\n",
       "      <td>P0639</td>\n",
       "      <td>2019-10-31</td>\n",
       "      <td>NaN</td>\n",
       "      <td>NaN</td>\n",
       "      <td>NaN</td>\n",
       "      <td>9.75</td>\n",
       "      <td>PR14</td>\n",
       "      <td>NaN</td>\n",
       "      <td>PR03</td>\n",
       "      <td>NaN</td>\n",
       "      <td>NaN</td>\n",
       "      <td>NaN</td>\n",
       "    </tr>\n",
       "    <tr>\n",
       "      <th>8886049</th>\n",
       "      <td>8886050</td>\n",
       "      <td>S0143</td>\n",
       "      <td>P0642</td>\n",
       "      <td>2019-10-31</td>\n",
       "      <td>NaN</td>\n",
       "      <td>NaN</td>\n",
       "      <td>NaN</td>\n",
       "      <td>4.00</td>\n",
       "      <td>PR14</td>\n",
       "      <td>NaN</td>\n",
       "      <td>PR03</td>\n",
       "      <td>NaN</td>\n",
       "      <td>NaN</td>\n",
       "      <td>NaN</td>\n",
       "    </tr>\n",
       "    <tr>\n",
       "      <th>8886050</th>\n",
       "      <td>8886051</td>\n",
       "      <td>S0143</td>\n",
       "      <td>P0658</td>\n",
       "      <td>2019-10-31</td>\n",
       "      <td>NaN</td>\n",
       "      <td>NaN</td>\n",
       "      <td>NaN</td>\n",
       "      <td>41.50</td>\n",
       "      <td>PR14</td>\n",
       "      <td>NaN</td>\n",
       "      <td>PR03</td>\n",
       "      <td>NaN</td>\n",
       "      <td>NaN</td>\n",
       "      <td>NaN</td>\n",
       "    </tr>\n",
       "    <tr>\n",
       "      <th>8886051</th>\n",
       "      <td>8886052</td>\n",
       "      <td>S0143</td>\n",
       "      <td>P0663</td>\n",
       "      <td>2019-10-31</td>\n",
       "      <td>NaN</td>\n",
       "      <td>NaN</td>\n",
       "      <td>NaN</td>\n",
       "      <td>6.75</td>\n",
       "      <td>PR10</td>\n",
       "      <td>verylow</td>\n",
       "      <td>PR03</td>\n",
       "      <td>NaN</td>\n",
       "      <td>NaN</td>\n",
       "      <td>NaN</td>\n",
       "    </tr>\n",
       "    <tr>\n",
       "      <th>8886052</th>\n",
       "      <td>8886053</td>\n",
       "      <td>S0143</td>\n",
       "      <td>P0664</td>\n",
       "      <td>2019-10-31</td>\n",
       "      <td>NaN</td>\n",
       "      <td>NaN</td>\n",
       "      <td>NaN</td>\n",
       "      <td>1.75</td>\n",
       "      <td>PR14</td>\n",
       "      <td>NaN</td>\n",
       "      <td>PR03</td>\n",
       "      <td>NaN</td>\n",
       "      <td>NaN</td>\n",
       "      <td>NaN</td>\n",
       "    </tr>\n",
       "    <tr>\n",
       "      <th>8886053</th>\n",
       "      <td>8886054</td>\n",
       "      <td>S0143</td>\n",
       "      <td>P0676</td>\n",
       "      <td>2019-10-31</td>\n",
       "      <td>NaN</td>\n",
       "      <td>NaN</td>\n",
       "      <td>NaN</td>\n",
       "      <td>19.90</td>\n",
       "      <td>PR03</td>\n",
       "      <td>verylow</td>\n",
       "      <td>PR03</td>\n",
       "      <td>NaN</td>\n",
       "      <td>NaN</td>\n",
       "      <td>NaN</td>\n",
       "    </tr>\n",
       "    <tr>\n",
       "      <th>8886054</th>\n",
       "      <td>8886055</td>\n",
       "      <td>S0143</td>\n",
       "      <td>P0680</td>\n",
       "      <td>2019-10-31</td>\n",
       "      <td>NaN</td>\n",
       "      <td>NaN</td>\n",
       "      <td>NaN</td>\n",
       "      <td>139.90</td>\n",
       "      <td>PR14</td>\n",
       "      <td>NaN</td>\n",
       "      <td>PR03</td>\n",
       "      <td>NaN</td>\n",
       "      <td>NaN</td>\n",
       "      <td>NaN</td>\n",
       "    </tr>\n",
       "    <tr>\n",
       "      <th>8886055</th>\n",
       "      <td>8886056</td>\n",
       "      <td>S0143</td>\n",
       "      <td>P0694</td>\n",
       "      <td>2019-10-31</td>\n",
       "      <td>NaN</td>\n",
       "      <td>NaN</td>\n",
       "      <td>NaN</td>\n",
       "      <td>7.50</td>\n",
       "      <td>PR14</td>\n",
       "      <td>NaN</td>\n",
       "      <td>PR03</td>\n",
       "      <td>NaN</td>\n",
       "      <td>NaN</td>\n",
       "      <td>NaN</td>\n",
       "    </tr>\n",
       "    <tr>\n",
       "      <th>8886056</th>\n",
       "      <td>8886057</td>\n",
       "      <td>S0143</td>\n",
       "      <td>P0718</td>\n",
       "      <td>2019-10-31</td>\n",
       "      <td>NaN</td>\n",
       "      <td>NaN</td>\n",
       "      <td>NaN</td>\n",
       "      <td>23.75</td>\n",
       "      <td>PR14</td>\n",
       "      <td>NaN</td>\n",
       "      <td>PR03</td>\n",
       "      <td>NaN</td>\n",
       "      <td>NaN</td>\n",
       "      <td>NaN</td>\n",
       "    </tr>\n",
       "    <tr>\n",
       "      <th>8886057</th>\n",
       "      <td>8886058</td>\n",
       "      <td>S0143</td>\n",
       "      <td>P0747</td>\n",
       "      <td>2019-10-31</td>\n",
       "      <td>NaN</td>\n",
       "      <td>NaN</td>\n",
       "      <td>NaN</td>\n",
       "      <td>21.90</td>\n",
       "      <td>PR14</td>\n",
       "      <td>NaN</td>\n",
       "      <td>PR03</td>\n",
       "      <td>NaN</td>\n",
       "      <td>NaN</td>\n",
       "      <td>NaN</td>\n",
       "    </tr>\n",
       "  </tbody>\n",
       "</table>\n",
       "</div>"
      ],
      "text/plain": [
       "         Unnamed: 0 store_id product_id        date  sales  revenue  stock  \\\n",
       "8886048     8886049    S0143      P0639  2019-10-31    NaN      NaN    NaN   \n",
       "8886049     8886050    S0143      P0642  2019-10-31    NaN      NaN    NaN   \n",
       "8886050     8886051    S0143      P0658  2019-10-31    NaN      NaN    NaN   \n",
       "8886051     8886052    S0143      P0663  2019-10-31    NaN      NaN    NaN   \n",
       "8886052     8886053    S0143      P0664  2019-10-31    NaN      NaN    NaN   \n",
       "8886053     8886054    S0143      P0676  2019-10-31    NaN      NaN    NaN   \n",
       "8886054     8886055    S0143      P0680  2019-10-31    NaN      NaN    NaN   \n",
       "8886055     8886056    S0143      P0694  2019-10-31    NaN      NaN    NaN   \n",
       "8886056     8886057    S0143      P0718  2019-10-31    NaN      NaN    NaN   \n",
       "8886057     8886058    S0143      P0747  2019-10-31    NaN      NaN    NaN   \n",
       "\n",
       "          price promo_type_1 promo_bin_1 promo_type_2 promo_bin_2  \\\n",
       "8886048    9.75         PR14         NaN         PR03         NaN   \n",
       "8886049    4.00         PR14         NaN         PR03         NaN   \n",
       "8886050   41.50         PR14         NaN         PR03         NaN   \n",
       "8886051    6.75         PR10     verylow         PR03         NaN   \n",
       "8886052    1.75         PR14         NaN         PR03         NaN   \n",
       "8886053   19.90         PR03     verylow         PR03         NaN   \n",
       "8886054  139.90         PR14         NaN         PR03         NaN   \n",
       "8886055    7.50         PR14         NaN         PR03         NaN   \n",
       "8886056   23.75         PR14         NaN         PR03         NaN   \n",
       "8886057   21.90         PR14         NaN         PR03         NaN   \n",
       "\n",
       "         promo_discount_2 promo_discount_type_2  \n",
       "8886048               NaN                   NaN  \n",
       "8886049               NaN                   NaN  \n",
       "8886050               NaN                   NaN  \n",
       "8886051               NaN                   NaN  \n",
       "8886052               NaN                   NaN  \n",
       "8886053               NaN                   NaN  \n",
       "8886054               NaN                   NaN  \n",
       "8886055               NaN                   NaN  \n",
       "8886056               NaN                   NaN  \n",
       "8886057               NaN                   NaN  "
      ]
     },
     "execution_count": 20,
     "metadata": {},
     "output_type": "execute_result"
    }
   ],
   "source": [
    "# Last Rows\n",
    "sales.tail(10)"
   ]
  }
 ],
 "metadata": {
  "kernelspec": {
   "display_name": "projectII",
   "language": "python",
   "name": "python3"
  },
  "language_info": {
   "codemirror_mode": {
    "name": "ipython",
    "version": 3
   },
   "file_extension": ".py",
   "mimetype": "text/x-python",
   "name": "python",
   "nbconvert_exporter": "python",
   "pygments_lexer": "ipython3",
   "version": "3.11.3"
  },
  "orig_nbformat": 4
 },
 "nbformat": 4,
 "nbformat_minor": 2
}
