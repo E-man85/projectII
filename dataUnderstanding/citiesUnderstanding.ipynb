{
 "cells": [
  {
   "attachments": {},
   "cell_type": "markdown",
   "metadata": {},
   "source": [
    "# Data Understanding\n",
    "## cities.csv"
   ]
  },
  {
   "cell_type": "code",
   "execution_count": 2,
   "metadata": {},
   "outputs": [
    {
     "data": {
      "text/plain": [
       "(63, 6)"
      ]
     },
     "execution_count": 2,
     "metadata": {},
     "output_type": "execute_result"
    }
   ],
   "source": [
    "# Import pandas library\n",
    "import pandas as pd\n",
    "cities = pd.read_csv(\"https://raw.githubusercontent.com/E-man85/projectII/main/rawData/cities.csv\")\n",
    "# Dimensions \n",
    "cities.shape"
   ]
  },
  {
   "cell_type": "markdown",
   "metadata": {},
   "source": [
    "## Overview"
   ]
  },
  {
   "cell_type": "code",
   "execution_count": 3,
   "metadata": {},
   "outputs": [
    {
     "name": "stdout",
     "output_type": "stream",
     "text": [
      "<class 'pandas.core.frame.DataFrame'>\n",
      "RangeIndex: 63 entries, 0 to 62\n",
      "Data columns (total 6 columns):\n",
      " #   Column        Non-Null Count  Dtype \n",
      "---  ------        --------------  ----- \n",
      " 0   store_id      63 non-null     object\n",
      " 1   storetype_id  63 non-null     object\n",
      " 2   store_size    63 non-null     int64 \n",
      " 3   city_id_old   63 non-null     object\n",
      " 4   country_id    63 non-null     object\n",
      " 5   city_code     63 non-null     object\n",
      "dtypes: int64(1), object(5)\n",
      "memory usage: 3.1+ KB\n"
     ]
    }
   ],
   "source": [
    "# Global Information\n",
    "cities.info()"
   ]
  },
  {
   "cell_type": "code",
   "execution_count": 13,
   "metadata": {},
   "outputs": [
    {
     "name": "stdout",
     "output_type": "stream",
     "text": [
      "\n",
      " False\n"
     ]
    }
   ],
   "source": [
    "# Duplicate rows\n",
    "cities.duplicated().any()"
   ]
  },
  {
   "attachments": {},
   "cell_type": "markdown",
   "metadata": {},
   "source": [
    "### Column store_id"
   ]
  },
  {
   "cell_type": "code",
   "execution_count": 16,
   "metadata": {},
   "outputs": [
    {
     "name": "stdout",
     "output_type": "stream",
     "text": [
      "False\n",
      "63\n",
      "count        63\n",
      "unique       63\n",
      "top       S0036\n",
      "freq          1\n",
      "Name: store_id, dtype: object\n"
     ]
    }
   ],
   "source": [
    "# Missing Values\n",
    "print(cities['store_id'].isnull().any())\n",
    "# Duplicate rows\n",
    "print(cities['store_id'].duplicated().any())\n",
    "# Unique values\n",
    "print(cities['store_id'].nunique())\n",
    "# Statistics\n",
    "print(cities['store_id'].describe())"
   ]
  },
  {
   "attachments": {},
   "cell_type": "markdown",
   "metadata": {},
   "source": [
    "### Column storetype_id"
   ]
  },
  {
   "cell_type": "code",
   "execution_count": 17,
   "metadata": {},
   "outputs": [
    {
     "name": "stdout",
     "output_type": "stream",
     "text": [
      "False\n",
      "True\n",
      "4\n",
      "count       63\n",
      "unique       4\n",
      "top       ST04\n",
      "freq        40\n",
      "Name: storetype_id, dtype: object\n"
     ]
    }
   ],
   "source": [
    "# Missing Values\n",
    "print(cities['storetype_id'].isnull().any())\n",
    "# Duplicate rows\n",
    "print(cities['storetype_id'].duplicated().any())\n",
    "# Unique values\n",
    "print(cities['storetype_id'].nunique())\n",
    "# Statistics \n",
    "print(cities['storetype_id'].describe())"
   ]
  },
  {
   "attachments": {},
   "cell_type": "markdown",
   "metadata": {},
   "source": [
    "### Column store_size"
   ]
  },
  {
   "cell_type": "code",
   "execution_count": 18,
   "metadata": {},
   "outputs": [
    {
     "name": "stdout",
     "output_type": "stream",
     "text": [
      "False\n",
      "True\n",
      "32\n",
      "count    63.000000\n",
      "mean     24.809524\n",
      "std      12.611895\n",
      "min       8.000000\n",
      "25%      15.500000\n",
      "50%      20.000000\n",
      "75%      31.500000\n",
      "max      63.000000\n",
      "Name: store_size, dtype: float64\n"
     ]
    }
   ],
   "source": [
    "# Missing Values\n",
    "print(cities['store_size'].isnull().any())\n",
    "# Duplicate rows\n",
    "print(cities['store_size'].duplicated().any())\n",
    "# Unique values\n",
    "print(cities['store_size'].nunique())\n",
    "# Statistics \n",
    "print(cities['store_size'].describe())"
   ]
  },
  {
   "cell_type": "markdown",
   "metadata": {},
   "source": [
    "### Column city_id_old"
   ]
  },
  {
   "cell_type": "code",
   "execution_count": 19,
   "metadata": {},
   "outputs": [
    {
     "name": "stdout",
     "output_type": "stream",
     "text": [
      "False\n",
      "True\n",
      "19\n",
      "count       63\n",
      "unique      19\n",
      "top       C014\n",
      "freq        32\n",
      "Name: city_id_old, dtype: object\n"
     ]
    }
   ],
   "source": [
    "# Missing Values\n",
    "print(cities['city_id_old'].isnull().any())\n",
    "# Duplicate rows\n",
    "print(cities['city_id_old'].duplicated().any())\n",
    "# Unique values\n",
    "print(cities['city_id_old'].nunique())\n",
    "# Statistics \n",
    "print(cities['city_id_old'].describe())"
   ]
  },
  {
   "attachments": {},
   "cell_type": "markdown",
   "metadata": {},
   "source": [
    "### Column country_id"
   ]
  },
  {
   "cell_type": "code",
   "execution_count": 20,
   "metadata": {},
   "outputs": [
    {
     "name": "stdout",
     "output_type": "stream",
     "text": [
      "False\n",
      "True\n",
      "1\n",
      "count         63\n",
      "unique         1\n",
      "top       TURKEY\n",
      "freq          63\n",
      "Name: country_id, dtype: object\n"
     ]
    }
   ],
   "source": [
    "# Missing Values\n",
    "print(cities['country_id'].isnull().any())\n",
    "# Duplicate rows\n",
    "print(cities['country_id'].duplicated().any())\n",
    "# Unique values\n",
    "print(cities['country_id'].nunique())\n",
    "# Statistics  \n",
    "print(cities['country_id'].describe())"
   ]
  },
  {
   "attachments": {},
   "cell_type": "markdown",
   "metadata": {},
   "source": [
    "### Column city_code"
   ]
  },
  {
   "cell_type": "code",
   "execution_count": 21,
   "metadata": {},
   "outputs": [
    {
     "name": "stdout",
     "output_type": "stream",
     "text": [
      "False\n",
      "True\n",
      "19\n",
      "count           63\n",
      "unique          19\n",
      "top       Istanbul\n",
      "freq            32\n",
      "Name: city_code, dtype: object\n"
     ]
    }
   ],
   "source": [
    "# Missing Values\n",
    "print(cities['city_code'].isnull().any())\n",
    "# Duplicate rows\n",
    "print(cities['city_code'].duplicated().any())\n",
    "# Unique values\n",
    "print(cities['city_code'].nunique())\n",
    "# Statistics \n",
    "print(cities['city_code'].describe())"
   ]
  },
  {
   "cell_type": "markdown",
   "metadata": {},
   "source": [
    "## Sample"
   ]
  },
  {
   "cell_type": "code",
   "execution_count": 23,
   "metadata": {},
   "outputs": [
    {
     "data": {
      "text/html": [
       "<div>\n",
       "<style scoped>\n",
       "    .dataframe tbody tr th:only-of-type {\n",
       "        vertical-align: middle;\n",
       "    }\n",
       "\n",
       "    .dataframe tbody tr th {\n",
       "        vertical-align: top;\n",
       "    }\n",
       "\n",
       "    .dataframe thead th {\n",
       "        text-align: right;\n",
       "    }\n",
       "</style>\n",
       "<table border=\"1\" class=\"dataframe\">\n",
       "  <thead>\n",
       "    <tr style=\"text-align: right;\">\n",
       "      <th></th>\n",
       "      <th>store_id</th>\n",
       "      <th>storetype_id</th>\n",
       "      <th>store_size</th>\n",
       "      <th>city_id_old</th>\n",
       "      <th>country_id</th>\n",
       "      <th>city_code</th>\n",
       "    </tr>\n",
       "  </thead>\n",
       "  <tbody>\n",
       "    <tr>\n",
       "      <th>0</th>\n",
       "      <td>S0036</td>\n",
       "      <td>ST04</td>\n",
       "      <td>21</td>\n",
       "      <td>C001</td>\n",
       "      <td>TURKEY</td>\n",
       "      <td>Denizli</td>\n",
       "    </tr>\n",
       "    <tr>\n",
       "      <th>1</th>\n",
       "      <td>S0005</td>\n",
       "      <td>ST04</td>\n",
       "      <td>19</td>\n",
       "      <td>C001</td>\n",
       "      <td>TURKEY</td>\n",
       "      <td>Denizli</td>\n",
       "    </tr>\n",
       "    <tr>\n",
       "      <th>2</th>\n",
       "      <td>S0104</td>\n",
       "      <td>ST04</td>\n",
       "      <td>47</td>\n",
       "      <td>C002</td>\n",
       "      <td>TURKEY</td>\n",
       "      <td>Ankara</td>\n",
       "    </tr>\n",
       "    <tr>\n",
       "      <th>3</th>\n",
       "      <td>S0068</td>\n",
       "      <td>ST03</td>\n",
       "      <td>14</td>\n",
       "      <td>C003</td>\n",
       "      <td>TURKEY</td>\n",
       "      <td>?zmir</td>\n",
       "    </tr>\n",
       "    <tr>\n",
       "      <th>4</th>\n",
       "      <td>S0086</td>\n",
       "      <td>ST03</td>\n",
       "      <td>12</td>\n",
       "      <td>C003</td>\n",
       "      <td>TURKEY</td>\n",
       "      <td>?zmir</td>\n",
       "    </tr>\n",
       "    <tr>\n",
       "      <th>5</th>\n",
       "      <td>S0038</td>\n",
       "      <td>ST01</td>\n",
       "      <td>63</td>\n",
       "      <td>C004</td>\n",
       "      <td>TURKEY</td>\n",
       "      <td>Bursa</td>\n",
       "    </tr>\n",
       "    <tr>\n",
       "      <th>6</th>\n",
       "      <td>S0012</td>\n",
       "      <td>ST04</td>\n",
       "      <td>28</td>\n",
       "      <td>C005</td>\n",
       "      <td>TURKEY</td>\n",
       "      <td>Antalya</td>\n",
       "    </tr>\n",
       "    <tr>\n",
       "      <th>7</th>\n",
       "      <td>S0141</td>\n",
       "      <td>ST03</td>\n",
       "      <td>12</td>\n",
       "      <td>C005</td>\n",
       "      <td>TURKEY</td>\n",
       "      <td>Antalya</td>\n",
       "    </tr>\n",
       "    <tr>\n",
       "      <th>8</th>\n",
       "      <td>S0092</td>\n",
       "      <td>ST04</td>\n",
       "      <td>23</td>\n",
       "      <td>C005</td>\n",
       "      <td>TURKEY</td>\n",
       "      <td>Antalya</td>\n",
       "    </tr>\n",
       "    <tr>\n",
       "      <th>9</th>\n",
       "      <td>S0136</td>\n",
       "      <td>ST03</td>\n",
       "      <td>12</td>\n",
       "      <td>C005</td>\n",
       "      <td>TURKEY</td>\n",
       "      <td>Antalya</td>\n",
       "    </tr>\n",
       "  </tbody>\n",
       "</table>\n",
       "</div>"
      ],
      "text/plain": [
       "  store_id storetype_id  store_size city_id_old country_id city_code\n",
       "0    S0036         ST04          21        C001     TURKEY   Denizli\n",
       "1    S0005         ST04          19        C001     TURKEY   Denizli\n",
       "2    S0104         ST04          47        C002     TURKEY    Ankara\n",
       "3    S0068         ST03          14        C003     TURKEY     ?zmir\n",
       "4    S0086         ST03          12        C003     TURKEY     ?zmir\n",
       "5    S0038         ST01          63        C004     TURKEY     Bursa\n",
       "6    S0012         ST04          28        C005     TURKEY   Antalya\n",
       "7    S0141         ST03          12        C005     TURKEY   Antalya\n",
       "8    S0092         ST04          23        C005     TURKEY   Antalya\n",
       "9    S0136         ST03          12        C005     TURKEY   Antalya"
      ]
     },
     "execution_count": 23,
     "metadata": {},
     "output_type": "execute_result"
    }
   ],
   "source": [
    "# First Rows\n",
    "cities.head(10)"
   ]
  },
  {
   "cell_type": "code",
   "execution_count": 24,
   "metadata": {},
   "outputs": [
    {
     "data": {
      "text/html": [
       "<div>\n",
       "<style scoped>\n",
       "    .dataframe tbody tr th:only-of-type {\n",
       "        vertical-align: middle;\n",
       "    }\n",
       "\n",
       "    .dataframe tbody tr th {\n",
       "        vertical-align: top;\n",
       "    }\n",
       "\n",
       "    .dataframe thead th {\n",
       "        text-align: right;\n",
       "    }\n",
       "</style>\n",
       "<table border=\"1\" class=\"dataframe\">\n",
       "  <thead>\n",
       "    <tr style=\"text-align: right;\">\n",
       "      <th></th>\n",
       "      <th>store_id</th>\n",
       "      <th>storetype_id</th>\n",
       "      <th>store_size</th>\n",
       "      <th>city_id_old</th>\n",
       "      <th>country_id</th>\n",
       "      <th>city_code</th>\n",
       "    </tr>\n",
       "  </thead>\n",
       "  <tbody>\n",
       "    <tr>\n",
       "      <th>53</th>\n",
       "      <td>S0143</td>\n",
       "      <td>ST03</td>\n",
       "      <td>13</td>\n",
       "      <td>C014</td>\n",
       "      <td>TURKEY</td>\n",
       "      <td>Istanbul</td>\n",
       "    </tr>\n",
       "    <tr>\n",
       "      <th>54</th>\n",
       "      <td>S0039</td>\n",
       "      <td>ST03</td>\n",
       "      <td>15</td>\n",
       "      <td>C014</td>\n",
       "      <td>TURKEY</td>\n",
       "      <td>Istanbul</td>\n",
       "    </tr>\n",
       "    <tr>\n",
       "      <th>55</th>\n",
       "      <td>S0050</td>\n",
       "      <td>ST04</td>\n",
       "      <td>31</td>\n",
       "      <td>C014</td>\n",
       "      <td>TURKEY</td>\n",
       "      <td>Istanbul</td>\n",
       "    </tr>\n",
       "    <tr>\n",
       "      <th>56</th>\n",
       "      <td>S0056</td>\n",
       "      <td>ST04</td>\n",
       "      <td>42</td>\n",
       "      <td>C015</td>\n",
       "      <td>TURKEY</td>\n",
       "      <td>Eski?ehir</td>\n",
       "    </tr>\n",
       "    <tr>\n",
       "      <th>57</th>\n",
       "      <td>S0108</td>\n",
       "      <td>ST04</td>\n",
       "      <td>35</td>\n",
       "      <td>C016</td>\n",
       "      <td>TURKEY</td>\n",
       "      <td>Adapazar?</td>\n",
       "    </tr>\n",
       "    <tr>\n",
       "      <th>58</th>\n",
       "      <td>S0040</td>\n",
       "      <td>ST04</td>\n",
       "      <td>42</td>\n",
       "      <td>C017</td>\n",
       "      <td>TURKEY</td>\n",
       "      <td>Kahramanmaras</td>\n",
       "    </tr>\n",
       "    <tr>\n",
       "      <th>59</th>\n",
       "      <td>S0046</td>\n",
       "      <td>ST04</td>\n",
       "      <td>26</td>\n",
       "      <td>C017</td>\n",
       "      <td>TURKEY</td>\n",
       "      <td>Kahramanmaras</td>\n",
       "    </tr>\n",
       "    <tr>\n",
       "      <th>60</th>\n",
       "      <td>S0102</td>\n",
       "      <td>ST04</td>\n",
       "      <td>27</td>\n",
       "      <td>C018</td>\n",
       "      <td>TURKEY</td>\n",
       "      <td>Erzurum</td>\n",
       "    </tr>\n",
       "    <tr>\n",
       "      <th>61</th>\n",
       "      <td>S0032</td>\n",
       "      <td>ST03</td>\n",
       "      <td>14</td>\n",
       "      <td>C019</td>\n",
       "      <td>TURKEY</td>\n",
       "      <td>Van</td>\n",
       "    </tr>\n",
       "    <tr>\n",
       "      <th>62</th>\n",
       "      <td>S0061</td>\n",
       "      <td>ST04</td>\n",
       "      <td>35</td>\n",
       "      <td>C019</td>\n",
       "      <td>TURKEY</td>\n",
       "      <td>Van</td>\n",
       "    </tr>\n",
       "  </tbody>\n",
       "</table>\n",
       "</div>"
      ],
      "text/plain": [
       "   store_id storetype_id  store_size city_id_old country_id      city_code\n",
       "53    S0143         ST03          13        C014     TURKEY       Istanbul\n",
       "54    S0039         ST03          15        C014     TURKEY       Istanbul\n",
       "55    S0050         ST04          31        C014     TURKEY       Istanbul\n",
       "56    S0056         ST04          42        C015     TURKEY      Eski?ehir\n",
       "57    S0108         ST04          35        C016     TURKEY      Adapazar?\n",
       "58    S0040         ST04          42        C017     TURKEY  Kahramanmaras\n",
       "59    S0046         ST04          26        C017     TURKEY  Kahramanmaras\n",
       "60    S0102         ST04          27        C018     TURKEY        Erzurum\n",
       "61    S0032         ST03          14        C019     TURKEY            Van\n",
       "62    S0061         ST04          35        C019     TURKEY            Van"
      ]
     },
     "execution_count": 24,
     "metadata": {},
     "output_type": "execute_result"
    }
   ],
   "source": [
    "# Last Rows\n",
    "cities.tail(10)"
   ]
  }
 ],
 "metadata": {
  "kernelspec": {
   "display_name": "projectII",
   "language": "python",
   "name": "python3"
  },
  "language_info": {
   "codemirror_mode": {
    "name": "ipython",
    "version": 3
   },
   "file_extension": ".py",
   "mimetype": "text/x-python",
   "name": "python",
   "nbconvert_exporter": "python",
   "pygments_lexer": "ipython3",
   "version": "3.11.3"
  },
  "orig_nbformat": 4
 },
 "nbformat": 4,
 "nbformat_minor": 2
}
