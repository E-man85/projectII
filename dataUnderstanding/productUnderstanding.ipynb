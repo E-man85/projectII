{
 "cells": [
  {
   "cell_type": "markdown",
   "metadata": {},
   "source": [
    "# Data Understanding\n",
    "## product.csv"
   ]
  },
  {
   "cell_type": "code",
   "execution_count": 1,
   "metadata": {},
   "outputs": [
    {
     "data": {
      "text/plain": [
       "(699, 10)"
      ]
     },
     "execution_count": 1,
     "metadata": {},
     "output_type": "execute_result"
    }
   ],
   "source": [
    "# Import pandas library\n",
    "import pandas as pd\n",
    "product = pd.read_csv(\"https://raw.githubusercontent.com/E-man85/projectII/main/rawData/product.csv\")\n",
    "# Dimensions \n",
    "product.shape"
   ]
  },
  {
   "cell_type": "markdown",
   "metadata": {},
   "source": [
    "## Overview"
   ]
  },
  {
   "cell_type": "code",
   "execution_count": 2,
   "metadata": {},
   "outputs": [
    {
     "name": "stdout",
     "output_type": "stream",
     "text": [
      "<class 'pandas.core.frame.DataFrame'>\n",
      "RangeIndex: 699 entries, 0 to 698\n",
      "Data columns (total 10 columns):\n",
      " #   Column          Non-Null Count  Dtype  \n",
      "---  ------          --------------  -----  \n",
      " 0   product_id      699 non-null    object \n",
      " 1   product_length  681 non-null    float64\n",
      " 2   product_depth   683 non-null    float64\n",
      " 3   product_width   683 non-null    float64\n",
      " 4   cluster_id      649 non-null    object \n",
      " 5   hierarchy1_id   699 non-null    object \n",
      " 6   hierarchy2_id   699 non-null    object \n",
      " 7   hierarchy3_id   699 non-null    object \n",
      " 8   hierarchy4_id   699 non-null    object \n",
      " 9   hierarchy5_id   699 non-null    object \n",
      "dtypes: float64(3), object(7)\n",
      "memory usage: 54.7+ KB\n"
     ]
    }
   ],
   "source": [
    "# Global Information\n",
    "product.info()"
   ]
  },
  {
   "cell_type": "code",
   "execution_count": 4,
   "metadata": {},
   "outputs": [
    {
     "data": {
      "text/plain": [
       "False"
      ]
     },
     "execution_count": 4,
     "metadata": {},
     "output_type": "execute_result"
    }
   ],
   "source": [
    "# Duplicate rows\n",
    "product.duplicated().any()"
   ]
  },
  {
   "attachments": {},
   "cell_type": "markdown",
   "metadata": {},
   "source": [
    "### Column product_id"
   ]
  },
  {
   "cell_type": "code",
   "execution_count": 5,
   "metadata": {},
   "outputs": [
    {
     "name": "stdout",
     "output_type": "stream",
     "text": [
      "False\n",
      "699\n",
      "count       699\n",
      "unique      699\n",
      "top       P0000\n",
      "freq          1\n",
      "Name: product_id, dtype: object\n"
     ]
    }
   ],
   "source": [
    "# Duplicate rows\n",
    "print(product['product_id'].duplicated().any())\n",
    "# Unique values\n",
    "print(product['product_id'].nunique())\n",
    "# Statistics\n",
    "print(product['product_id'].describe())"
   ]
  },
  {
   "attachments": {},
   "cell_type": "markdown",
   "metadata": {},
   "source": [
    "### Column product_length"
   ]
  },
  {
   "cell_type": "code",
   "execution_count": 6,
   "metadata": {},
   "outputs": [
    {
     "name": "stdout",
     "output_type": "stream",
     "text": [
      "True\n",
      "True\n",
      "123\n",
      "count    681.000000\n",
      "mean       7.232305\n",
      "std        8.512507\n",
      "min        0.000000\n",
      "25%        3.000000\n",
      "50%        5.000000\n",
      "75%        8.000000\n",
      "max      100.000000\n",
      "Name: product_length, dtype: float64\n"
     ]
    }
   ],
   "source": [
    "# Missing Values\n",
    "print(product['product_depth'].isnull().any())\n",
    "# Duplicate rows\n",
    "print(product['product_length'].duplicated().any())\n",
    "# Unique values\n",
    "print(product['product_length'].nunique())\n",
    "# Statistics \n",
    "print(product['product_length'].describe())"
   ]
  },
  {
   "attachments": {},
   "cell_type": "markdown",
   "metadata": {},
   "source": [
    "### Column product_width"
   ]
  },
  {
   "cell_type": "code",
   "execution_count": 7,
   "metadata": {},
   "outputs": [
    {
     "name": "stdout",
     "output_type": "stream",
     "text": [
      "True\n",
      "True\n",
      "144\n",
      "count    683.000000\n",
      "mean      13.454758\n",
      "std       10.137132\n",
      "min        0.000000\n",
      "25%        7.450000\n",
      "50%       10.800000\n",
      "75%       16.000000\n",
      "max      100.000000\n",
      "Name: product_width, dtype: float64\n"
     ]
    }
   ],
   "source": [
    "# Missing Values\n",
    "print(product['product_width'].isnull().any())\n",
    "# Duplicate rows\n",
    "print(product['product_width'].duplicated().any())\n",
    "# Unique values\n",
    "print(product['product_width'].nunique())\n",
    "# Statistics \n",
    "print(product['product_width'].describe())"
   ]
  },
  {
   "attachments": {},
   "cell_type": "markdown",
   "metadata": {},
   "source": [
    "### Column cluster_id"
   ]
  },
  {
   "cell_type": "code",
   "execution_count": 8,
   "metadata": {},
   "outputs": [
    {
     "name": "stdout",
     "output_type": "stream",
     "text": [
      "True\n",
      "True\n",
      "10\n",
      "count           649\n",
      "unique           10\n",
      "top       cluster_0\n",
      "freq            450\n",
      "Name: cluster_id, dtype: object\n"
     ]
    }
   ],
   "source": [
    "# Missing Values\n",
    "print(product['cluster_id'].isnull().any())\n",
    "# Duplicate rows\n",
    "print(product['cluster_id'].duplicated().any())\n",
    "# Unique values\n",
    "print(product['cluster_id'].nunique())\n",
    "# Statistics\n",
    "print(product['cluster_id'].describe())"
   ]
  },
  {
   "attachments": {},
   "cell_type": "markdown",
   "metadata": {},
   "source": [
    "### Column hierarchy1_id"
   ]
  },
  {
   "cell_type": "code",
   "execution_count": 9,
   "metadata": {},
   "outputs": [
    {
     "name": "stdout",
     "output_type": "stream",
     "text": [
      "False\n",
      "True\n",
      "4\n",
      "count     699\n",
      "unique      4\n",
      "top       H03\n",
      "freq      292\n",
      "Name: hierarchy1_id, dtype: object\n"
     ]
    }
   ],
   "source": [
    "# Missing Values\n",
    "print(product['hierarchy1_id'].isnull().any())\n",
    "# Duplicate rows\n",
    "print(product['hierarchy1_id'].duplicated().any())\n",
    "# Unique values\n",
    "print(product['hierarchy1_id'].nunique())\n",
    "# Statistics  \n",
    "print(product['hierarchy1_id'].describe())"
   ]
  },
  {
   "attachments": {},
   "cell_type": "markdown",
   "metadata": {},
   "source": [
    "### Column hierarchy2_id"
   ]
  },
  {
   "cell_type": "code",
   "execution_count": 10,
   "metadata": {},
   "outputs": [
    {
     "name": "stdout",
     "output_type": "stream",
     "text": [
      "False\n",
      "True\n",
      "18\n",
      "count       699\n",
      "unique       18\n",
      "top       H0313\n",
      "freq        101\n",
      "Name: hierarchy2_id, dtype: object\n"
     ]
    }
   ],
   "source": [
    "# Missing Values\n",
    "print(product['hierarchy2_id'].isnull().any())\n",
    "# Duplicate rows\n",
    "print(product['hierarchy2_id'].duplicated().any())\n",
    "# Unique values\n",
    "print(product['hierarchy2_id'].nunique())\n",
    "# Statistics \n",
    "print(product['hierarchy2_id'].describe())"
   ]
  },
  {
   "attachments": {},
   "cell_type": "markdown",
   "metadata": {},
   "source": [
    "### Column hierarchy3_id"
   ]
  },
  {
   "cell_type": "code",
   "execution_count": 11,
   "metadata": {},
   "outputs": [
    {
     "name": "stdout",
     "output_type": "stream",
     "text": [
      "False\n",
      "True\n",
      "79\n",
      "count         699\n",
      "unique         79\n",
      "top       H031302\n",
      "freq           39\n",
      "Name: hierarchy3_id, dtype: object\n"
     ]
    }
   ],
   "source": [
    "# Missing Values\n",
    "print(product['hierarchy3_id'].isnull().any())\n",
    "# Duplicate rows\n",
    "print(product['hierarchy3_id'].duplicated().any())\n",
    "# Unique values\n",
    "print(product['hierarchy3_id'].nunique())\n",
    "# Statistics  \n",
    "print(product['hierarchy3_id'].describe())"
   ]
  },
  {
   "attachments": {},
   "cell_type": "markdown",
   "metadata": {},
   "source": [
    "### Column hierarchy4_id"
   ]
  },
  {
   "cell_type": "code",
   "execution_count": 12,
   "metadata": {},
   "outputs": [
    {
     "name": "stdout",
     "output_type": "stream",
     "text": [
      "False\n",
      "True\n",
      "168\n",
      "count           699\n",
      "unique          168\n",
      "top       H00031200\n",
      "freq             18\n",
      "Name: hierarchy4_id, dtype: object\n"
     ]
    }
   ],
   "source": [
    "# Missing Values\n",
    "print(product['hierarchy4_id'].isnull().any())\n",
    "# Duplicate rows\n",
    "print(product['hierarchy4_id'].duplicated().any())\n",
    "# Unique values\n",
    "print(product['hierarchy4_id'].nunique())\n",
    "# Statistics  \n",
    "print(product['hierarchy4_id'].describe())"
   ]
  },
  {
   "attachments": {},
   "cell_type": "markdown",
   "metadata": {},
   "source": [
    "### Column hierarchy5_id"
   ]
  },
  {
   "cell_type": "code",
   "execution_count": 13,
   "metadata": {},
   "outputs": [
    {
     "name": "stdout",
     "output_type": "stream",
     "text": [
      "False\n",
      "True\n",
      "373\n",
      "count             699\n",
      "unique            373\n",
      "top       H0313020501\n",
      "freq                8\n",
      "Name: hierarchy5_id, dtype: object\n"
     ]
    }
   ],
   "source": [
    "# Missing Values\n",
    "print(product['hierarchy5_id'].isnull().any())\n",
    "# Duplicate rows\n",
    "print(product['hierarchy5_id'].duplicated().any())\n",
    "# Unique values\n",
    "print(product['hierarchy5_id'].nunique())\n",
    "# Statistics\n",
    "print(product['hierarchy5_id'].describe())"
   ]
  },
  {
   "cell_type": "markdown",
   "metadata": {},
   "source": [
    "## Sample"
   ]
  },
  {
   "cell_type": "code",
   "execution_count": 15,
   "metadata": {},
   "outputs": [
    {
     "data": {
      "text/html": [
       "<div>\n",
       "<style scoped>\n",
       "    .dataframe tbody tr th:only-of-type {\n",
       "        vertical-align: middle;\n",
       "    }\n",
       "\n",
       "    .dataframe tbody tr th {\n",
       "        vertical-align: top;\n",
       "    }\n",
       "\n",
       "    .dataframe thead th {\n",
       "        text-align: right;\n",
       "    }\n",
       "</style>\n",
       "<table border=\"1\" class=\"dataframe\">\n",
       "  <thead>\n",
       "    <tr style=\"text-align: right;\">\n",
       "      <th></th>\n",
       "      <th>product_id</th>\n",
       "      <th>product_length</th>\n",
       "      <th>product_depth</th>\n",
       "      <th>product_width</th>\n",
       "      <th>cluster_id</th>\n",
       "      <th>hierarchy1_id</th>\n",
       "      <th>hierarchy2_id</th>\n",
       "      <th>hierarchy3_id</th>\n",
       "      <th>hierarchy4_id</th>\n",
       "      <th>hierarchy5_id</th>\n",
       "    </tr>\n",
       "  </thead>\n",
       "  <tbody>\n",
       "    <tr>\n",
       "      <th>0</th>\n",
       "      <td>P0000</td>\n",
       "      <td>5.0</td>\n",
       "      <td>20.0</td>\n",
       "      <td>12.0</td>\n",
       "      <td>NaN</td>\n",
       "      <td>H00</td>\n",
       "      <td>H0004</td>\n",
       "      <td>H000401</td>\n",
       "      <td>H00040105</td>\n",
       "      <td>H0004010534</td>\n",
       "    </tr>\n",
       "    <tr>\n",
       "      <th>1</th>\n",
       "      <td>P0001</td>\n",
       "      <td>13.5</td>\n",
       "      <td>22.0</td>\n",
       "      <td>20.0</td>\n",
       "      <td>cluster_5</td>\n",
       "      <td>H01</td>\n",
       "      <td>H0105</td>\n",
       "      <td>H010501</td>\n",
       "      <td>H01050100</td>\n",
       "      <td>H0105010006</td>\n",
       "    </tr>\n",
       "    <tr>\n",
       "      <th>2</th>\n",
       "      <td>P0002</td>\n",
       "      <td>22.0</td>\n",
       "      <td>40.0</td>\n",
       "      <td>22.0</td>\n",
       "      <td>cluster_0</td>\n",
       "      <td>H03</td>\n",
       "      <td>H0315</td>\n",
       "      <td>H031508</td>\n",
       "      <td>H03150800</td>\n",
       "      <td>H0315080028</td>\n",
       "    </tr>\n",
       "    <tr>\n",
       "      <th>3</th>\n",
       "      <td>P0004</td>\n",
       "      <td>2.0</td>\n",
       "      <td>13.0</td>\n",
       "      <td>4.0</td>\n",
       "      <td>cluster_3</td>\n",
       "      <td>H03</td>\n",
       "      <td>H0314</td>\n",
       "      <td>H031405</td>\n",
       "      <td>H03140500</td>\n",
       "      <td>H0314050003</td>\n",
       "    </tr>\n",
       "    <tr>\n",
       "      <th>4</th>\n",
       "      <td>P0005</td>\n",
       "      <td>16.0</td>\n",
       "      <td>30.0</td>\n",
       "      <td>16.0</td>\n",
       "      <td>cluster_9</td>\n",
       "      <td>H03</td>\n",
       "      <td>H0312</td>\n",
       "      <td>H031211</td>\n",
       "      <td>H03121109</td>\n",
       "      <td>H0312110917</td>\n",
       "    </tr>\n",
       "    <tr>\n",
       "      <th>5</th>\n",
       "      <td>P0006</td>\n",
       "      <td>8.5</td>\n",
       "      <td>15.0</td>\n",
       "      <td>15.0</td>\n",
       "      <td>cluster_0</td>\n",
       "      <td>H03</td>\n",
       "      <td>H0316</td>\n",
       "      <td>H031608</td>\n",
       "      <td>H03160817</td>\n",
       "      <td>H0316081708</td>\n",
       "    </tr>\n",
       "    <tr>\n",
       "      <th>6</th>\n",
       "      <td>P0007</td>\n",
       "      <td>2.0</td>\n",
       "      <td>22.0</td>\n",
       "      <td>9.5</td>\n",
       "      <td>cluster_4</td>\n",
       "      <td>H03</td>\n",
       "      <td>H0313</td>\n",
       "      <td>H031305</td>\n",
       "      <td>H03130519</td>\n",
       "      <td>H0313051904</td>\n",
       "    </tr>\n",
       "    <tr>\n",
       "      <th>7</th>\n",
       "      <td>P0008</td>\n",
       "      <td>5.0</td>\n",
       "      <td>16.0</td>\n",
       "      <td>5.0</td>\n",
       "      <td>cluster_0</td>\n",
       "      <td>H00</td>\n",
       "      <td>H0000</td>\n",
       "      <td>H000004</td>\n",
       "      <td>H00000400</td>\n",
       "      <td>H0000040017</td>\n",
       "    </tr>\n",
       "    <tr>\n",
       "      <th>8</th>\n",
       "      <td>P0009</td>\n",
       "      <td>5.0</td>\n",
       "      <td>18.0</td>\n",
       "      <td>14.0</td>\n",
       "      <td>cluster_6</td>\n",
       "      <td>H00</td>\n",
       "      <td>H0002</td>\n",
       "      <td>H000201</td>\n",
       "      <td>H00020100</td>\n",
       "      <td>H0002010012</td>\n",
       "    </tr>\n",
       "    <tr>\n",
       "      <th>9</th>\n",
       "      <td>P0010</td>\n",
       "      <td>2.0</td>\n",
       "      <td>22.0</td>\n",
       "      <td>3.0</td>\n",
       "      <td>cluster_0</td>\n",
       "      <td>H01</td>\n",
       "      <td>H0108</td>\n",
       "      <td>H010801</td>\n",
       "      <td>H01080109</td>\n",
       "      <td>H0108010917</td>\n",
       "    </tr>\n",
       "  </tbody>\n",
       "</table>\n",
       "</div>"
      ],
      "text/plain": [
       "  product_id  product_length  product_depth  product_width cluster_id  \\\n",
       "0      P0000             5.0           20.0           12.0        NaN   \n",
       "1      P0001            13.5           22.0           20.0  cluster_5   \n",
       "2      P0002            22.0           40.0           22.0  cluster_0   \n",
       "3      P0004             2.0           13.0            4.0  cluster_3   \n",
       "4      P0005            16.0           30.0           16.0  cluster_9   \n",
       "5      P0006             8.5           15.0           15.0  cluster_0   \n",
       "6      P0007             2.0           22.0            9.5  cluster_4   \n",
       "7      P0008             5.0           16.0            5.0  cluster_0   \n",
       "8      P0009             5.0           18.0           14.0  cluster_6   \n",
       "9      P0010             2.0           22.0            3.0  cluster_0   \n",
       "\n",
       "  hierarchy1_id hierarchy2_id hierarchy3_id hierarchy4_id hierarchy5_id  \n",
       "0           H00         H0004       H000401     H00040105   H0004010534  \n",
       "1           H01         H0105       H010501     H01050100   H0105010006  \n",
       "2           H03         H0315       H031508     H03150800   H0315080028  \n",
       "3           H03         H0314       H031405     H03140500   H0314050003  \n",
       "4           H03         H0312       H031211     H03121109   H0312110917  \n",
       "5           H03         H0316       H031608     H03160817   H0316081708  \n",
       "6           H03         H0313       H031305     H03130519   H0313051904  \n",
       "7           H00         H0000       H000004     H00000400   H0000040017  \n",
       "8           H00         H0002       H000201     H00020100   H0002010012  \n",
       "9           H01         H0108       H010801     H01080109   H0108010917  "
      ]
     },
     "execution_count": 15,
     "metadata": {},
     "output_type": "execute_result"
    }
   ],
   "source": [
    "# First Rows\n",
    "product.head(10)"
   ]
  },
  {
   "cell_type": "code",
   "execution_count": 14,
   "metadata": {},
   "outputs": [
    {
     "data": {
      "text/html": [
       "<div>\n",
       "<style scoped>\n",
       "    .dataframe tbody tr th:only-of-type {\n",
       "        vertical-align: middle;\n",
       "    }\n",
       "\n",
       "    .dataframe tbody tr th {\n",
       "        vertical-align: top;\n",
       "    }\n",
       "\n",
       "    .dataframe thead th {\n",
       "        text-align: right;\n",
       "    }\n",
       "</style>\n",
       "<table border=\"1\" class=\"dataframe\">\n",
       "  <thead>\n",
       "    <tr style=\"text-align: right;\">\n",
       "      <th></th>\n",
       "      <th>product_id</th>\n",
       "      <th>product_length</th>\n",
       "      <th>product_depth</th>\n",
       "      <th>product_width</th>\n",
       "      <th>cluster_id</th>\n",
       "      <th>hierarchy1_id</th>\n",
       "      <th>hierarchy2_id</th>\n",
       "      <th>hierarchy3_id</th>\n",
       "      <th>hierarchy4_id</th>\n",
       "      <th>hierarchy5_id</th>\n",
       "    </tr>\n",
       "  </thead>\n",
       "  <tbody>\n",
       "    <tr>\n",
       "      <th>689</th>\n",
       "      <td>P0738</td>\n",
       "      <td>3.5</td>\n",
       "      <td>8.5</td>\n",
       "      <td>3.5</td>\n",
       "      <td>cluster_0</td>\n",
       "      <td>H01</td>\n",
       "      <td>H0108</td>\n",
       "      <td>H010808</td>\n",
       "      <td>H01080814</td>\n",
       "      <td>H0108081412</td>\n",
       "    </tr>\n",
       "    <tr>\n",
       "      <th>690</th>\n",
       "      <td>P0739</td>\n",
       "      <td>8.5</td>\n",
       "      <td>9.0</td>\n",
       "      <td>8.5</td>\n",
       "      <td>cluster_3</td>\n",
       "      <td>H03</td>\n",
       "      <td>H0312</td>\n",
       "      <td>H031208</td>\n",
       "      <td>H03120817</td>\n",
       "      <td>H0312081713</td>\n",
       "    </tr>\n",
       "    <tr>\n",
       "      <th>691</th>\n",
       "      <td>P0740</td>\n",
       "      <td>1.0</td>\n",
       "      <td>20.0</td>\n",
       "      <td>10.0</td>\n",
       "      <td>cluster_0</td>\n",
       "      <td>H03</td>\n",
       "      <td>H0313</td>\n",
       "      <td>H031305</td>\n",
       "      <td>H03130518</td>\n",
       "      <td>H0313051828</td>\n",
       "    </tr>\n",
       "    <tr>\n",
       "      <th>692</th>\n",
       "      <td>P0741</td>\n",
       "      <td>3.8</td>\n",
       "      <td>16.4</td>\n",
       "      <td>9.5</td>\n",
       "      <td>cluster_0</td>\n",
       "      <td>H01</td>\n",
       "      <td>H0106</td>\n",
       "      <td>H010600</td>\n",
       "      <td>H01060013</td>\n",
       "      <td>H0106001345</td>\n",
       "    </tr>\n",
       "    <tr>\n",
       "      <th>693</th>\n",
       "      <td>P0742</td>\n",
       "      <td>6.4</td>\n",
       "      <td>7.0</td>\n",
       "      <td>6.4</td>\n",
       "      <td>cluster_0</td>\n",
       "      <td>H01</td>\n",
       "      <td>H0108</td>\n",
       "      <td>H010811</td>\n",
       "      <td>H01081100</td>\n",
       "      <td>H0108110038</td>\n",
       "    </tr>\n",
       "    <tr>\n",
       "      <th>694</th>\n",
       "      <td>P0744</td>\n",
       "      <td>2.0</td>\n",
       "      <td>7.0</td>\n",
       "      <td>7.0</td>\n",
       "      <td>NaN</td>\n",
       "      <td>H03</td>\n",
       "      <td>H0311</td>\n",
       "      <td>H031108</td>\n",
       "      <td>H03110802</td>\n",
       "      <td>H0311080202</td>\n",
       "    </tr>\n",
       "    <tr>\n",
       "      <th>695</th>\n",
       "      <td>P0745</td>\n",
       "      <td>NaN</td>\n",
       "      <td>NaN</td>\n",
       "      <td>NaN</td>\n",
       "      <td>cluster_0</td>\n",
       "      <td>H02</td>\n",
       "      <td>H0209</td>\n",
       "      <td>H020908</td>\n",
       "      <td>H02090804</td>\n",
       "      <td>H0209080422</td>\n",
       "    </tr>\n",
       "    <tr>\n",
       "      <th>696</th>\n",
       "      <td>P0746</td>\n",
       "      <td>1.0</td>\n",
       "      <td>1.0</td>\n",
       "      <td>1.0</td>\n",
       "      <td>cluster_0</td>\n",
       "      <td>H03</td>\n",
       "      <td>H0314</td>\n",
       "      <td>H031407</td>\n",
       "      <td>H03140702</td>\n",
       "      <td>H0314070202</td>\n",
       "    </tr>\n",
       "    <tr>\n",
       "      <th>697</th>\n",
       "      <td>P0747</td>\n",
       "      <td>23.0</td>\n",
       "      <td>23.0</td>\n",
       "      <td>33.3</td>\n",
       "      <td>cluster_0</td>\n",
       "      <td>H01</td>\n",
       "      <td>H0107</td>\n",
       "      <td>H010701</td>\n",
       "      <td>H01070100</td>\n",
       "      <td>H0107010026</td>\n",
       "    </tr>\n",
       "    <tr>\n",
       "      <th>698</th>\n",
       "      <td>P0748</td>\n",
       "      <td>3.8</td>\n",
       "      <td>4.8</td>\n",
       "      <td>15.3</td>\n",
       "      <td>cluster_0</td>\n",
       "      <td>H01</td>\n",
       "      <td>H0108</td>\n",
       "      <td>H010801</td>\n",
       "      <td>H01080110</td>\n",
       "      <td>H0108011006</td>\n",
       "    </tr>\n",
       "  </tbody>\n",
       "</table>\n",
       "</div>"
      ],
      "text/plain": [
       "    product_id  product_length  product_depth  product_width cluster_id  \\\n",
       "689      P0738             3.5            8.5            3.5  cluster_0   \n",
       "690      P0739             8.5            9.0            8.5  cluster_3   \n",
       "691      P0740             1.0           20.0           10.0  cluster_0   \n",
       "692      P0741             3.8           16.4            9.5  cluster_0   \n",
       "693      P0742             6.4            7.0            6.4  cluster_0   \n",
       "694      P0744             2.0            7.0            7.0        NaN   \n",
       "695      P0745             NaN            NaN            NaN  cluster_0   \n",
       "696      P0746             1.0            1.0            1.0  cluster_0   \n",
       "697      P0747            23.0           23.0           33.3  cluster_0   \n",
       "698      P0748             3.8            4.8           15.3  cluster_0   \n",
       "\n",
       "    hierarchy1_id hierarchy2_id hierarchy3_id hierarchy4_id hierarchy5_id  \n",
       "689           H01         H0108       H010808     H01080814   H0108081412  \n",
       "690           H03         H0312       H031208     H03120817   H0312081713  \n",
       "691           H03         H0313       H031305     H03130518   H0313051828  \n",
       "692           H01         H0106       H010600     H01060013   H0106001345  \n",
       "693           H01         H0108       H010811     H01081100   H0108110038  \n",
       "694           H03         H0311       H031108     H03110802   H0311080202  \n",
       "695           H02         H0209       H020908     H02090804   H0209080422  \n",
       "696           H03         H0314       H031407     H03140702   H0314070202  \n",
       "697           H01         H0107       H010701     H01070100   H0107010026  \n",
       "698           H01         H0108       H010801     H01080110   H0108011006  "
      ]
     },
     "execution_count": 14,
     "metadata": {},
     "output_type": "execute_result"
    }
   ],
   "source": [
    "# Last Rows\n",
    "product.tail(10)"
   ]
  }
 ],
 "metadata": {
  "kernelspec": {
   "display_name": "Python 3",
   "language": "python",
   "name": "python3"
  },
  "language_info": {
   "codemirror_mode": {
    "name": "ipython",
    "version": 3
   },
   "file_extension": ".py",
   "mimetype": "text/x-python",
   "name": "python",
   "nbconvert_exporter": "python",
   "pygments_lexer": "ipython3",
   "version": "3.11.3"
  },
  "orig_nbformat": 4
 },
 "nbformat": 4,
 "nbformat_minor": 2
}
