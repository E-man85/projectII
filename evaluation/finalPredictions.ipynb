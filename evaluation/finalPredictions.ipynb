{
 "cells": [
  {
   "attachments": {},
   "cell_type": "markdown",
   "metadata": {},
   "source": [
    "## Parte 1\n",
    "\n",
    "**Problema:**\n",
    "\n",
    "-O cliente precisa de atualizar o armazenamento de roupa em cada loja para Outubro de 2019.\n",
    "\n",
    "**Objetivo:**\n",
    "\n",
    "-Prever com precisão as vendas semanais considerando sazonalidade,tendência e variáveis explicativas. Para complementar, deverá ser feito uma análise dos dados que serão utilizados no modelo."
   ]
  },
  {
   "attachments": {},
   "cell_type": "markdown",
   "metadata": {},
   "source": [
    "## Seleção de Modelos para cada Store_id"
   ]
  },
  {
   "cell_type": "code",
   "execution_count": 11,
   "metadata": {
    "vscode": {
     "languageId": "r"
    }
   },
   "outputs": [],
   "source": [
    "# carregar bibliotecas\n",
    "library(dplyr)\n",
    "library(forecast)\n",
    "library(tidyverse)\n",
    "library(xts)\n",
    "library(ggplot2)\n",
    "library(tidyverse)"
   ]
  },
  {
   "cell_type": "code",
   "execution_count": 2,
   "metadata": {
    "vscode": {
     "languageId": "r"
    }
   },
   "outputs": [],
   "source": [
    "# Carregar dados de metricas dos diversos modelos\n",
    "path <- \"C:/Users/Egomes/Desktop/PG_Analytics_Data_science_empresarial/Isla_gaia/14-ProjetoII/projetoII/dataStaging/accuracySimpleMethods.csv\"\n",
    "simpleModels <- read.csv(path)\n",
    "rm(path)\n",
    "\n",
    "path <- \"C:/Users/Egomes/Desktop/PG_Analytics_Data_science_empresarial/Isla_gaia/14-ProjetoII/projetoII/dataStaging/accuracySimpleLineaRegressionModels.csv\"\n",
    "lrModels <- read.csv(path)\n",
    "rm(path)\n",
    "\n",
    "path <- \"C:/Users/Egomes/Desktop/PG_Analytics_Data_science_empresarial/Isla_gaia/14-ProjetoII/projetoII/dataStaging/accuracyEtsModels.csv\"\n",
    "etsModels <- read.csv(path)\n",
    "rm(path)\n",
    "\n",
    "path <- \"C:/Users/Egomes/Desktop/PG_Analytics_Data_science_empresarial/Isla_gaia/14-ProjetoII/projetoII/dataStaging/accuracyAutoArimaSarimaModels.csv\"\n",
    "arimaModels <- read.csv(path)\n",
    "rm(path)\n",
    "\n",
    "path <- \"C:/Users/Egomes/Desktop/PG_Analytics_Data_science_empresarial/Isla_gaia/14-ProjetoII/projetoII/dataStaging/accuracyArimaXregModels.csv\"\n",
    "arimaxregModels <- read.csv(path)\n",
    "rm(path)"
   ]
  },
  {
   "cell_type": "code",
   "execution_count": 3,
   "metadata": {
    "vscode": {
     "languageId": "r"
    }
   },
   "outputs": [
    {
     "data": {
      "text/html": [
       "<table class=\"dataframe\">\n",
       "<caption>A tibble: 10 × 4</caption>\n",
       "<thead>\n",
       "\t<tr><th scope=col>store_id</th><th scope=col>metrics</th><th scope=col>model</th><th scope=col>values</th></tr>\n",
       "\t<tr><th scope=col>&lt;chr&gt;</th><th scope=col>&lt;chr&gt;</th><th scope=col>&lt;chr&gt;</th><th scope=col>&lt;dbl&gt;</th></tr>\n",
       "</thead>\n",
       "<tbody>\n",
       "\t<tr><td>S0002</td><td>ME  </td><td>avg  </td><td>-1586.15000</td></tr>\n",
       "\t<tr><td>S0002</td><td>RMSE</td><td>avg  </td><td> 1949.76841</td></tr>\n",
       "\t<tr><td>S0002</td><td>MAE </td><td>avg  </td><td> 1661.29400</td></tr>\n",
       "\t<tr><td>S0002</td><td>MPE </td><td>avg  </td><td>  -48.61882</td></tr>\n",
       "\t<tr><td>S0002</td><td>MAPE</td><td>avg  </td><td>   50.92214</td></tr>\n",
       "\t<tr><td>S0002</td><td>ME  </td><td>naive</td><td>11435.06000</td></tr>\n",
       "\t<tr><td>S0002</td><td>RMSE</td><td>naive</td><td>11491.14103</td></tr>\n",
       "\t<tr><td>S0002</td><td>MAE </td><td>naive</td><td>11435.06000</td></tr>\n",
       "\t<tr><td>S0002</td><td>MPE </td><td>naive</td><td>   70.22427</td></tr>\n",
       "\t<tr><td>S0002</td><td>MAPE</td><td>naive</td><td>   70.22427</td></tr>\n",
       "</tbody>\n",
       "</table>\n"
      ],
      "text/latex": [
       "A tibble: 10 × 4\n",
       "\\begin{tabular}{llll}\n",
       " store\\_id & metrics & model & values\\\\\n",
       " <chr> & <chr> & <chr> & <dbl>\\\\\n",
       "\\hline\n",
       "\t S0002 & ME   & avg   & -1586.15000\\\\\n",
       "\t S0002 & RMSE & avg   &  1949.76841\\\\\n",
       "\t S0002 & MAE  & avg   &  1661.29400\\\\\n",
       "\t S0002 & MPE  & avg   &   -48.61882\\\\\n",
       "\t S0002 & MAPE & avg   &    50.92214\\\\\n",
       "\t S0002 & ME   & naive & 11435.06000\\\\\n",
       "\t S0002 & RMSE & naive & 11491.14103\\\\\n",
       "\t S0002 & MAE  & naive & 11435.06000\\\\\n",
       "\t S0002 & MPE  & naive &    70.22427\\\\\n",
       "\t S0002 & MAPE & naive &    70.22427\\\\\n",
       "\\end{tabular}\n"
      ],
      "text/markdown": [
       "\n",
       "A tibble: 10 × 4\n",
       "\n",
       "| store_id &lt;chr&gt; | metrics &lt;chr&gt; | model &lt;chr&gt; | values &lt;dbl&gt; |\n",
       "|---|---|---|---|\n",
       "| S0002 | ME   | avg   | -1586.15000 |\n",
       "| S0002 | RMSE | avg   |  1949.76841 |\n",
       "| S0002 | MAE  | avg   |  1661.29400 |\n",
       "| S0002 | MPE  | avg   |   -48.61882 |\n",
       "| S0002 | MAPE | avg   |    50.92214 |\n",
       "| S0002 | ME   | naive | 11435.06000 |\n",
       "| S0002 | RMSE | naive | 11491.14103 |\n",
       "| S0002 | MAE  | naive | 11435.06000 |\n",
       "| S0002 | MPE  | naive |    70.22427 |\n",
       "| S0002 | MAPE | naive |    70.22427 |\n",
       "\n"
      ],
      "text/plain": [
       "   store_id metrics model values     \n",
       "1  S0002    ME      avg   -1586.15000\n",
       "2  S0002    RMSE    avg    1949.76841\n",
       "3  S0002    MAE     avg    1661.29400\n",
       "4  S0002    MPE     avg     -48.61882\n",
       "5  S0002    MAPE    avg      50.92214\n",
       "6  S0002    ME      naive 11435.06000\n",
       "7  S0002    RMSE    naive 11491.14103\n",
       "8  S0002    MAE     naive 11435.06000\n",
       "9  S0002    MPE     naive    70.22427\n",
       "10 S0002    MAPE    naive    70.22427"
      ]
     },
     "metadata": {},
     "output_type": "display_data"
    }
   ],
   "source": [
    "# Agregar dataframes em um unico\n",
    "result <- left_join(simpleModels, etsModels, by = \"store_id\")\n",
    "result <- left_join(result, lrModels, by = \"store_id\")\n",
    "result <- left_join(result, arimaModels, by = \"store_id\")\n",
    "result <- left_join(result, arimaxregModels, by = \"store_id\")\n",
    "# Analytics dataframe\n",
    "result <- result %>%\n",
    "  pivot_longer(cols = -c(store_id), names_to = \"metrics_models\", values_to = \"values\")\n",
    "# Dividir a coluna em duas partes usando o delimitador \"_\"\n",
    "result <- separate(result, metrics_models, into = c(\"metrics\", \"model\"), sep = \"_\")\n",
    "head(result,10)"
   ]
  },
  {
   "cell_type": "code",
   "execution_count": 4,
   "metadata": {
    "vscode": {
     "languageId": "r"
    }
   },
   "outputs": [
    {
     "data": {
      "text/html": [
       "<style>\n",
       ".list-inline {list-style: none; margin:0; padding: 0}\n",
       ".list-inline>li {display: inline-block}\n",
       ".list-inline>li:not(:last-child)::after {content: \"\\00b7\"; padding: 0 .5ex}\n",
       "</style>\n",
       "<ol class=list-inline><li>945</li><li>4</li></ol>\n"
      ],
      "text/latex": [
       "\\begin{enumerate*}\n",
       "\\item 945\n",
       "\\item 4\n",
       "\\end{enumerate*}\n"
      ],
      "text/markdown": [
       "1. 945\n",
       "2. 4\n",
       "\n",
       "\n"
      ],
      "text/plain": [
       "[1] 945   4"
      ]
     },
     "metadata": {},
     "output_type": "display_data"
    },
    {
     "data": {
      "text/html": [
       "<style>\n",
       ".list-inline {list-style: none; margin:0; padding: 0}\n",
       ".list-inline>li {display: inline-block}\n",
       ".list-inline>li:not(:last-child)::after {content: \"\\00b7\"; padding: 0 .5ex}\n",
       "</style>\n",
       "<ol class=list-inline><li>934</li><li>4</li></ol>\n"
      ],
      "text/latex": [
       "\\begin{enumerate*}\n",
       "\\item 934\n",
       "\\item 4\n",
       "\\end{enumerate*}\n"
      ],
      "text/markdown": [
       "1. 934\n",
       "2. 4\n",
       "\n",
       "\n"
      ],
      "text/plain": [
       "[1] 934   4"
      ]
     },
     "metadata": {},
     "output_type": "display_data"
    }
   ],
   "source": [
    "# Tendo o foco na precisão da previsão o uso da media  RMSE penaliza erros maiores de forma mais significativa\n",
    "# O RMSE também é sensível a outliers, pois os valores elevados ao quadrado aumentam a influência desses pontos.\n",
    "# Raiz Quadrada do Erro Médio Quadrático (RMSE): Calcula a raiz quadrada do MSE, Fornece uma métrica de erro médio em unidades originais. \n",
    "# O RMSE é sensível a grandes desvios e pode ser útil quando erros maiores são penalizados de forma desproporcional.\n",
    "\n",
    "# Selecionar metrica == RMSE\n",
    "result <- result[result$metrics == \"RMSE\", ]\n",
    "dim(result)\n",
    "result <- result[complete.cases(result),]\n",
    "# Retirar NaN existentes\n",
    "dim(result)"
   ]
  },
  {
   "cell_type": "code",
   "execution_count": 5,
   "metadata": {
    "vscode": {
     "languageId": "r"
    }
   },
   "outputs": [
    {
     "data": {
      "text/html": [
       "63"
      ],
      "text/latex": [
       "63"
      ],
      "text/markdown": [
       "63"
      ],
      "text/plain": [
       "[1] 63"
      ]
     },
     "metadata": {},
     "output_type": "display_data"
    }
   ],
   "source": [
    "# Criar lista de dataframes em que cada elemento é uma store\n",
    "# criar variável com lista das lojas unicas\n",
    "stores <- unique(result$store_id)\n",
    "# Lista para armazenar os dataframes\n",
    "df_list <- list()\n",
    "# Loop para criar os dataframes separados\n",
    "for (store in stores) {\n",
    "  # filtrar dataframe\n",
    "  df_store <- result[result$store_id == store,]\n",
    "  df_store <- df_store[, c(\"store_id\", \"model\", \"values\")]\n",
    "  # Adicionar dataframe à lista\n",
    "  df_list[[store]] <- df_store\n",
    "}\n",
    "# Selecionar o modelo com RMSE mais baixo\n",
    "# Criar dataframe vazio\n",
    "df_select_models <- data.frame(store_id = character(), \n",
    "                        model = character(), \n",
    "                        stringsAsFactors = FALSE)\n",
    "\n",
    "for (i in names(df_list)){\n",
    "    data <- df_list[[i]]\n",
    "    # Selecionando a linha com o menor RMSE\n",
    "    row_rmse <- data[which.min(data$values), ] # menor rmse modelo\n",
    "    row_rmse <- row_rmse[, c(\"store_id\", \"model\", \"values\")]\n",
    "    # Adicionar nova linha ao dataframe\n",
    "    df_select_models <- rbind(df_select_models, row_rmse)\n",
    "}\n",
    "nrow(df_select_models)"
   ]
  },
  {
   "cell_type": "code",
   "execution_count": 6,
   "metadata": {
    "vscode": {
     "languageId": "r"
    }
   },
   "outputs": [
    {
     "data": {
      "text/html": [
       "<table class=\"dataframe\">\n",
       "<caption>A tibble: 7 × 2</caption>\n",
       "<thead>\n",
       "\t<tr><th scope=col>model</th><th scope=col>nr_stores</th></tr>\n",
       "\t<tr><th scope=col>&lt;chr&gt;</th><th scope=col>&lt;int&gt;</th></tr>\n",
       "</thead>\n",
       "<tbody>\n",
       "\t<tr><td>avg       </td><td>10</td></tr>\n",
       "\t<tr><td>ets       </td><td> 1</td></tr>\n",
       "\t<tr><td>holtdamped</td><td> 4</td></tr>\n",
       "\t<tr><td>lm        </td><td>26</td></tr>\n",
       "\t<tr><td>snaive    </td><td> 4</td></tr>\n",
       "\t<tr><td>stlf      </td><td> 2</td></tr>\n",
       "\t<tr><td>tslm      </td><td>16</td></tr>\n",
       "</tbody>\n",
       "</table>\n"
      ],
      "text/latex": [
       "A tibble: 7 × 2\n",
       "\\begin{tabular}{ll}\n",
       " model & nr\\_stores\\\\\n",
       " <chr> & <int>\\\\\n",
       "\\hline\n",
       "\t avg        & 10\\\\\n",
       "\t ets        &  1\\\\\n",
       "\t holtdamped &  4\\\\\n",
       "\t lm         & 26\\\\\n",
       "\t snaive     &  4\\\\\n",
       "\t stlf       &  2\\\\\n",
       "\t tslm       & 16\\\\\n",
       "\\end{tabular}\n"
      ],
      "text/markdown": [
       "\n",
       "A tibble: 7 × 2\n",
       "\n",
       "| model &lt;chr&gt; | nr_stores &lt;int&gt; |\n",
       "|---|---|\n",
       "| avg        | 10 |\n",
       "| ets        |  1 |\n",
       "| holtdamped |  4 |\n",
       "| lm         | 26 |\n",
       "| snaive     |  4 |\n",
       "| stlf       |  2 |\n",
       "| tslm       | 16 |\n",
       "\n"
      ],
      "text/plain": [
       "  model      nr_stores\n",
       "1 avg        10       \n",
       "2 ets         1       \n",
       "3 holtdamped  4       \n",
       "4 lm         26       \n",
       "5 snaive      4       \n",
       "6 stlf        2       \n",
       "7 tslm       16       "
      ]
     },
     "metadata": {},
     "output_type": "display_data"
    }
   ],
   "source": [
    "# Ver numero de Lojas por modelo\n",
    "df_select_models %>%\n",
    "  group_by(model) %>%\n",
    "  summarise(nr_stores = n())"
   ]
  },
  {
   "attachments": {},
   "cell_type": "markdown",
   "metadata": {},
   "source": [
    "## Final Predictions"
   ]
  },
  {
   "cell_type": "code",
   "execution_count": 7,
   "metadata": {
    "vscode": {
     "languageId": "r"
    }
   },
   "outputs": [
    {
     "data": {
      "text/html": [
       "63"
      ],
      "text/latex": [
       "63"
      ],
      "text/markdown": [
       "63"
      ],
      "text/plain": [
       "[1] 63"
      ]
     },
     "metadata": {},
     "output_type": "display_data"
    }
   ],
   "source": [
    "# Carregar dados Semanais\n",
    "path <- \"https://raw.githubusercontent.com/E-man85/projectII/main/dataStaging/grainWeekMultipleVariables.csv\"\n",
    "df <- read.csv(path)\n",
    "# Alterar tipo da coluna date\n",
    "df$date <- as.Date(df$date)\n",
    "# criar variável com lista das lojas unicas\n",
    "stores <- unique(df$store_id)\n",
    "# Lista para armazenar os dataframes\n",
    "df_list <- list()\n",
    "# Loop para criar os dataframes separados\n",
    "for (store in stores) {\n",
    "  # filtrar dataframe\n",
    "  df_store <- df[df$store_id == store,]\n",
    "  # Adicionar dataframe à lista\n",
    "  df_list[[store]] <- df_store\n",
    "}\n",
    "# Converter em timeseries ts\n",
    "ts_list <- list()\n",
    "# Loop\n",
    "for(t in names(df_list)){\n",
    "    data <- df_list[[t]]\n",
    "    ts <- ts(data = data$summed_revenue, frequency = 52)\n",
    "    ts_list[[t]] <- ts\n",
    "}\n",
    "length(ts_list)"
   ]
  },
  {
   "cell_type": "code",
   "execution_count": 8,
   "metadata": {
    "vscode": {
     "languageId": "r"
    }
   },
   "outputs": [
    {
     "data": {
      "text/html": [
       "26"
      ],
      "text/latex": [
       "26"
      ],
      "text/markdown": [
       "26"
      ],
      "text/plain": [
       "[1] 26"
      ]
     },
     "metadata": {},
     "output_type": "display_data"
    },
    {
     "data": {
      "text/html": [
       "16"
      ],
      "text/latex": [
       "16"
      ],
      "text/markdown": [
       "16"
      ],
      "text/plain": [
       "[1] 16"
      ]
     },
     "metadata": {},
     "output_type": "display_data"
    },
    {
     "data": {
      "text/html": [
       "1"
      ],
      "text/latex": [
       "1"
      ],
      "text/markdown": [
       "1"
      ],
      "text/plain": [
       "[1] 1"
      ]
     },
     "metadata": {},
     "output_type": "display_data"
    },
    {
     "data": {
      "text/html": [
       "2"
      ],
      "text/latex": [
       "2"
      ],
      "text/markdown": [
       "2"
      ],
      "text/plain": [
       "[1] 2"
      ]
     },
     "metadata": {},
     "output_type": "display_data"
    },
    {
     "data": {
      "text/html": [
       "3"
      ],
      "text/latex": [
       "3"
      ],
      "text/markdown": [
       "3"
      ],
      "text/plain": [
       "[1] 3"
      ]
     },
     "metadata": {},
     "output_type": "display_data"
    },
    {
     "data": {
      "text/html": [
       "1"
      ],
      "text/latex": [
       "1"
      ],
      "text/markdown": [
       "1"
      ],
      "text/plain": [
       "[1] 1"
      ]
     },
     "metadata": {},
     "output_type": "display_data"
    },
    {
     "data": {
      "text/html": [
       "10"
      ],
      "text/latex": [
       "10"
      ],
      "text/markdown": [
       "10"
      ],
      "text/plain": [
       "[1] 10"
      ]
     },
     "metadata": {},
     "output_type": "display_data"
    },
    {
     "data": {
      "text/html": [
       "4"
      ],
      "text/latex": [
       "4"
      ],
      "text/markdown": [
       "4"
      ],
      "text/plain": [
       "[1] 4"
      ]
     },
     "metadata": {},
     "output_type": "display_data"
    }
   ],
   "source": [
    "# model linear regression\n",
    "forecast_values_lm <- list()\n",
    "#loop\n",
    "for (df in names(df_list)){\n",
    "  if (df %in% c(\"S0002\", \"S0003\", \"S0010\",\"S0012\", \"S0020\", \"S0023\",\"S0030\", \"S0038\", \n",
    "                \"S0050\",\"S0052\",\"S0059\",\"S0062\",\"S0072\",\"S0073\",\"S0076\",\"S0085\",\"S0086\",\n",
    "                \"S0089\",\"S0091\",\"S0095\",\"S0102\",\"S0107\",\"S0109\",\"S0122\",\"S0126\",\"S0132\")) {\n",
    "    data <- df_list[[df]]\n",
    "    model <- lm(summed_revenue ~ date, data = data)\n",
    "    novos_dados <- data.frame(date = seq(max(data$date) + 7, length.out = 5, by = 7))\n",
    "    forecast_result <- forecast(model, newdata = novos_dados)\n",
    "    previsoes <- round(forecast_result$mean,2)\n",
    "    forecast_values_lm[[df]] <- previsoes\n",
    "  }\n",
    "}\n",
    "length(forecast_values_lm)\n",
    "\n",
    "# model tslm \n",
    "forecast_values_tslm <- list()\n",
    "for (ts in names(ts_list)){\n",
    "  if (ts %in% c(\"S0014\", \"S0016\", \"S0026\",\"S0036\",\"S0039\",\"S0041\",\"S0056\",\"S0058\",\"S0067\",\"S0080\",\"S0094\",\"S0099\",\"S0104\",\"S0108\",\"S0131\",\"S0141\")) {\n",
    "    data <- ts_list[[ts]]\n",
    "    model <- tslm(data ~ trend + season)\n",
    "    forecast_result <- forecast(model, h = 5)\n",
    "    forecast_values_tslm[[ts]] <- round(forecast_result$mean,2)\n",
    "  } \n",
    "}\n",
    "length(forecast_values_tslm)\n",
    "\n",
    "# model ETS (Error, Trend, Seasonality) \n",
    "forecast_values_ets <- list()\n",
    "for (ts in names(ts_list)){\n",
    "  if (ts %in% c(\"S0055\")) {\n",
    "    data <- ts_list[[ts]]\n",
    "    data <- tail(data, 24)\n",
    "    forecast_ets <- forecast(ets(data), h = 5)\n",
    "    forecast_values_ets[[ts]] <- round(forecast_ets$mean,2)\n",
    "  }\n",
    "}\n",
    "length(forecast_values_ets)\n",
    "\n",
    "# model STLF (Seasonal and Trend decomposition using Loess and Fourier) \n",
    "forecast_values_stls <- list()\n",
    "# Loop\n",
    "for (ts in names(ts_list)){\n",
    "  if (ts %in% c(\"S0077\", \"S0120\")) {\n",
    "    data <- ts_list[[ts]]\n",
    "    forecast_stlf <- stlf(data,5)\n",
    "    forecast_values_stls[[ts]] <- round(forecast_stlf$mean,2)\n",
    "  }\n",
    "}\n",
    "length(forecast_values_stls)\n",
    "\n",
    "# snaive\n",
    "forecast_values_snaive <- list()\n",
    "# loop\n",
    "for (ts in names(ts_list)) {\n",
    "  if (ts %in% c(\"S0040\", \"S0045\",\"S0142\")) {\n",
    "  data <- ts_list[[i]]\n",
    "  forecast_snaive <- round(snaive(data, 5)$mean,2)\n",
    "  forecast_values_snaive[[ts]] <- forecast_snaive\n",
    "  }\n",
    "}\n",
    "length(forecast_values_snaive)\n",
    "\n",
    "# Modelo loja S0136\tarimaXreg\n",
    "forecast_values_arimaxreg <- list()\n",
    "for (ts in names(ts_list)) {\n",
    "  if (ts %in% c(\"S0136\")) {\n",
    "    data <-df_list[[ts]]\n",
    "  # Acrescentar variavel open_closed\n",
    "    data$open_closed <- ifelse(data$number_month %in% c(1, 2, 3, 4, 9, 10, 11, 12), 0, 1)\n",
    "    # selecionar colunas\n",
    "    data <- data[, c('store_id','date', 'summed_revenue','open_closed')]\n",
    "    ts_data <- as.matrix(data[, !(names(data) %in% c('store_id', 'date'))])\n",
    "    exogenous_var <- ts_data[, \"open_closed\"]\n",
    "    model <- auto.arima(ts_data[,\"summed_revenue\"], xreg = exogenous_var)\n",
    "  # Realizar previsões\n",
    "    ts_predict <- as.matrix(rep(0,5)) # variável exogena para a previsão\n",
    "    exogenous_var <- ts_predict\n",
    "    forecast <- forecast(model, xreg = exogenous_var , h = 5)\n",
    "    forecast_values_arimaxreg[[ts]] <- forecast$mean\n",
    "  }\n",
    "}\n",
    "length(forecast_values_arimaxreg)\n",
    "\n",
    "# Average\n",
    "forecast_values_avg <- list()\n",
    "# loop\n",
    "for (ts  in names(ts_list)){\n",
    "  if (ts %in% c(\"S0005\",\"S0015\",\"S0022\",\"S0032\",\"S0046\",\"S0061\",\"S0083\",\"S0088\",\"S0092\",\"S0097\")){\n",
    "    data <- ts_list[[ts]]\n",
    "    avg_forecast <- round(meanf(data,5)$mean,2)\n",
    "    forecast_values_avg[[ts]] <- avg_forecast\n",
    "  }\n",
    "}\n",
    "length(forecast_values_avg)\n",
    "\n",
    "# holtdamped\n",
    "forecast_values_holtdamped <- list()\n",
    "# Loop\n",
    "for (ts in names(ts_list)){\n",
    "  if (ts %in% c(\"S0007\",\"S0068\",\"S0071\",\"S0143\")){\n",
    "    data <- ts_list[[ts]]\n",
    "    model_holt_damped <- forecast(holt(data, damped=TRUE), h = 5)\n",
    "    forecast_values_holtdamped[[ts]] <- round(model_holt_damped$mean,2)\n",
    "  }\n",
    "}\n",
    "length(forecast_values_holtdamped)"
   ]
  },
  {
   "cell_type": "code",
   "execution_count": 9,
   "metadata": {
    "vscode": {
     "languageId": "r"
    }
   },
   "outputs": [
    {
     "data": {
      "text/html": [
       "<table class=\"dataframe\">\n",
       "<caption>A data.frame: 5 × 64</caption>\n",
       "<thead>\n",
       "\t<tr><th></th><th scope=col>date</th><th scope=col>S0002</th><th scope=col>S0003</th><th scope=col>S0005</th><th scope=col>S0007</th><th scope=col>S0010</th><th scope=col>S0012</th><th scope=col>S0014</th><th scope=col>S0015</th><th scope=col>S0016</th><th scope=col>⋯</th><th scope=col>S0109</th><th scope=col>S0120</th><th scope=col>S0122</th><th scope=col>S0126</th><th scope=col>S0131</th><th scope=col>S0132</th><th scope=col>S0136</th><th scope=col>S0141</th><th scope=col>S0142</th><th scope=col>S0143</th></tr>\n",
       "\t<tr><th></th><th scope=col>&lt;date&gt;</th><th scope=col>&lt;dbl&gt;</th><th scope=col>&lt;dbl&gt;</th><th scope=col>&lt;dbl&gt;</th><th scope=col>&lt;dbl&gt;</th><th scope=col>&lt;dbl&gt;</th><th scope=col>&lt;dbl&gt;</th><th scope=col>&lt;dbl&gt;</th><th scope=col>&lt;dbl&gt;</th><th scope=col>&lt;dbl&gt;</th><th scope=col>⋯</th><th scope=col>&lt;dbl&gt;</th><th scope=col>&lt;dbl&gt;</th><th scope=col>&lt;dbl&gt;</th><th scope=col>&lt;dbl&gt;</th><th scope=col>&lt;dbl&gt;</th><th scope=col>&lt;dbl&gt;</th><th scope=col>&lt;dbl&gt;</th><th scope=col>&lt;dbl&gt;</th><th scope=col>&lt;dbl&gt;</th><th scope=col>&lt;dbl&gt;</th></tr>\n",
       "</thead>\n",
       "<tbody>\n",
       "\t<tr><th scope=row>1</th><td>2019-09-30</td><td>4706.12</td><td>1322.53</td><td>1171.85</td><td>917.79</td><td>2977.42</td><td>1916.68</td><td>1493.87</td><td>2457.84</td><td> 901.93</td><td>⋯</td><td>1968.14</td><td>505.11</td><td>1773.47</td><td>3529.85</td><td>1991.38</td><td>3282.85</td><td>0</td><td>511.31</td><td>586.41</td><td>665.96</td></tr>\n",
       "\t<tr><th scope=row>2</th><td>2019-10-07</td><td>4725.40</td><td>1328.57</td><td>1171.85</td><td>924.48</td><td>2985.07</td><td>1924.57</td><td>1352.55</td><td>2457.84</td><td>1141.50</td><td>⋯</td><td>1994.75</td><td>566.42</td><td>1781.59</td><td>3538.68</td><td>2489.09</td><td>3298.69</td><td>0</td><td>422.05</td><td>531.52</td><td>666.02</td></tr>\n",
       "\t<tr><th scope=row>3</th><td>2019-10-14</td><td>4744.68</td><td>1334.62</td><td>1171.85</td><td>931.05</td><td>2992.73</td><td>1932.46</td><td>1560.39</td><td>2457.84</td><td> 927.07</td><td>⋯</td><td>2021.37</td><td>535.95</td><td>1789.70</td><td>3547.51</td><td>2070.11</td><td>3314.53</td><td>0</td><td>332.02</td><td>497.22</td><td>666.07</td></tr>\n",
       "\t<tr><th scope=row>4</th><td>2019-10-21</td><td>4763.96</td><td>1340.66</td><td>1171.85</td><td>937.48</td><td>3000.38</td><td>1940.35</td><td>1433.16</td><td>2457.84</td><td> 744.68</td><td>⋯</td><td>2047.98</td><td>528.00</td><td>1797.82</td><td>3556.34</td><td>1703.53</td><td>3330.37</td><td>0</td><td>394.36</td><td>392.12</td><td>666.12</td></tr>\n",
       "\t<tr><th scope=row>5</th><td>2019-10-28</td><td>4783.24</td><td>1346.71</td><td>1171.85</td><td>943.78</td><td>3008.04</td><td>1948.25</td><td>1218.01</td><td>2457.84</td><td> 721.01</td><td>⋯</td><td>2074.59</td><td>642.16</td><td>1805.94</td><td>3565.18</td><td>1919.17</td><td>3346.22</td><td>0</td><td>358.94</td><td>380.14</td><td>666.17</td></tr>\n",
       "</tbody>\n",
       "</table>\n"
      ],
      "text/latex": [
       "A data.frame: 5 × 64\n",
       "\\begin{tabular}{r|lllllllllllllllllllll}\n",
       "  & date & S0002 & S0003 & S0005 & S0007 & S0010 & S0012 & S0014 & S0015 & S0016 & ⋯ & S0109 & S0120 & S0122 & S0126 & S0131 & S0132 & S0136 & S0141 & S0142 & S0143\\\\\n",
       "  & <date> & <dbl> & <dbl> & <dbl> & <dbl> & <dbl> & <dbl> & <dbl> & <dbl> & <dbl> & ⋯ & <dbl> & <dbl> & <dbl> & <dbl> & <dbl> & <dbl> & <dbl> & <dbl> & <dbl> & <dbl>\\\\\n",
       "\\hline\n",
       "\t1 & 2019-09-30 & 4706.12 & 1322.53 & 1171.85 & 917.79 & 2977.42 & 1916.68 & 1493.87 & 2457.84 &  901.93 & ⋯ & 1968.14 & 505.11 & 1773.47 & 3529.85 & 1991.38 & 3282.85 & 0 & 511.31 & 586.41 & 665.96\\\\\n",
       "\t2 & 2019-10-07 & 4725.40 & 1328.57 & 1171.85 & 924.48 & 2985.07 & 1924.57 & 1352.55 & 2457.84 & 1141.50 & ⋯ & 1994.75 & 566.42 & 1781.59 & 3538.68 & 2489.09 & 3298.69 & 0 & 422.05 & 531.52 & 666.02\\\\\n",
       "\t3 & 2019-10-14 & 4744.68 & 1334.62 & 1171.85 & 931.05 & 2992.73 & 1932.46 & 1560.39 & 2457.84 &  927.07 & ⋯ & 2021.37 & 535.95 & 1789.70 & 3547.51 & 2070.11 & 3314.53 & 0 & 332.02 & 497.22 & 666.07\\\\\n",
       "\t4 & 2019-10-21 & 4763.96 & 1340.66 & 1171.85 & 937.48 & 3000.38 & 1940.35 & 1433.16 & 2457.84 &  744.68 & ⋯ & 2047.98 & 528.00 & 1797.82 & 3556.34 & 1703.53 & 3330.37 & 0 & 394.36 & 392.12 & 666.12\\\\\n",
       "\t5 & 2019-10-28 & 4783.24 & 1346.71 & 1171.85 & 943.78 & 3008.04 & 1948.25 & 1218.01 & 2457.84 &  721.01 & ⋯ & 2074.59 & 642.16 & 1805.94 & 3565.18 & 1919.17 & 3346.22 & 0 & 358.94 & 380.14 & 666.17\\\\\n",
       "\\end{tabular}\n"
      ],
      "text/markdown": [
       "\n",
       "A data.frame: 5 × 64\n",
       "\n",
       "| <!--/--> | date &lt;date&gt; | S0002 &lt;dbl&gt; | S0003 &lt;dbl&gt; | S0005 &lt;dbl&gt; | S0007 &lt;dbl&gt; | S0010 &lt;dbl&gt; | S0012 &lt;dbl&gt; | S0014 &lt;dbl&gt; | S0015 &lt;dbl&gt; | S0016 &lt;dbl&gt; | ⋯ ⋯ | S0109 &lt;dbl&gt; | S0120 &lt;dbl&gt; | S0122 &lt;dbl&gt; | S0126 &lt;dbl&gt; | S0131 &lt;dbl&gt; | S0132 &lt;dbl&gt; | S0136 &lt;dbl&gt; | S0141 &lt;dbl&gt; | S0142 &lt;dbl&gt; | S0143 &lt;dbl&gt; |\n",
       "|---|---|---|---|---|---|---|---|---|---|---|---|---|---|---|---|---|---|---|---|---|---|\n",
       "| 1 | 2019-09-30 | 4706.12 | 1322.53 | 1171.85 | 917.79 | 2977.42 | 1916.68 | 1493.87 | 2457.84 |  901.93 | ⋯ | 1968.14 | 505.11 | 1773.47 | 3529.85 | 1991.38 | 3282.85 | 0 | 511.31 | 586.41 | 665.96 |\n",
       "| 2 | 2019-10-07 | 4725.40 | 1328.57 | 1171.85 | 924.48 | 2985.07 | 1924.57 | 1352.55 | 2457.84 | 1141.50 | ⋯ | 1994.75 | 566.42 | 1781.59 | 3538.68 | 2489.09 | 3298.69 | 0 | 422.05 | 531.52 | 666.02 |\n",
       "| 3 | 2019-10-14 | 4744.68 | 1334.62 | 1171.85 | 931.05 | 2992.73 | 1932.46 | 1560.39 | 2457.84 |  927.07 | ⋯ | 2021.37 | 535.95 | 1789.70 | 3547.51 | 2070.11 | 3314.53 | 0 | 332.02 | 497.22 | 666.07 |\n",
       "| 4 | 2019-10-21 | 4763.96 | 1340.66 | 1171.85 | 937.48 | 3000.38 | 1940.35 | 1433.16 | 2457.84 |  744.68 | ⋯ | 2047.98 | 528.00 | 1797.82 | 3556.34 | 1703.53 | 3330.37 | 0 | 394.36 | 392.12 | 666.12 |\n",
       "| 5 | 2019-10-28 | 4783.24 | 1346.71 | 1171.85 | 943.78 | 3008.04 | 1948.25 | 1218.01 | 2457.84 |  721.01 | ⋯ | 2074.59 | 642.16 | 1805.94 | 3565.18 | 1919.17 | 3346.22 | 0 | 358.94 | 380.14 | 666.17 |\n",
       "\n"
      ],
      "text/plain": [
       "  date       S0002   S0003   S0005   S0007  S0010   S0012   S0014   S0015  \n",
       "1 2019-09-30 4706.12 1322.53 1171.85 917.79 2977.42 1916.68 1493.87 2457.84\n",
       "2 2019-10-07 4725.40 1328.57 1171.85 924.48 2985.07 1924.57 1352.55 2457.84\n",
       "3 2019-10-14 4744.68 1334.62 1171.85 931.05 2992.73 1932.46 1560.39 2457.84\n",
       "4 2019-10-21 4763.96 1340.66 1171.85 937.48 3000.38 1940.35 1433.16 2457.84\n",
       "5 2019-10-28 4783.24 1346.71 1171.85 943.78 3008.04 1948.25 1218.01 2457.84\n",
       "  S0016   ⋯ S0109   S0120  S0122   S0126   S0131   S0132   S0136 S0141  S0142 \n",
       "1  901.93 ⋯ 1968.14 505.11 1773.47 3529.85 1991.38 3282.85 0     511.31 586.41\n",
       "2 1141.50 ⋯ 1994.75 566.42 1781.59 3538.68 2489.09 3298.69 0     422.05 531.52\n",
       "3  927.07 ⋯ 2021.37 535.95 1789.70 3547.51 2070.11 3314.53 0     332.02 497.22\n",
       "4  744.68 ⋯ 2047.98 528.00 1797.82 3556.34 1703.53 3330.37 0     394.36 392.12\n",
       "5  721.01 ⋯ 2074.59 642.16 1805.94 3565.18 1919.17 3346.22 0     358.94 380.14\n",
       "  S0143 \n",
       "1 665.96\n",
       "2 666.02\n",
       "3 666.07\n",
       "4 666.12\n",
       "5 666.17"
      ]
     },
     "metadata": {},
     "output_type": "display_data"
    }
   ],
   "source": [
    "# listas com as predicts\n",
    "predict_list <-list(forecast_values_lm, forecast_values_tslm, forecast_values_ets, forecast_values_stls, forecast_values_snaive, forecast_values_arimaxreg, forecast_values_avg, forecast_values_holtdamped)\n",
    "# Criar dataframes dos resultados\n",
    "df_lm <- data.frame(lapply(forecast_values_lm, as.vector))\n",
    "df_tslm <- data.frame(lapply(forecast_values_tslm, as.vector))\n",
    "df_ets <- data.frame(lapply(forecast_values_ets, unname))\n",
    "df_stls <- data.frame(lapply(forecast_values_stls, as.vector))\n",
    "df_snaive <- data.frame(lapply(forecast_values_snaive, as.vector))\n",
    "df_arimaxreg <- data.frame(lapply(forecast_values_arimaxreg, as.vector))\n",
    "df_avg <- data.frame(lapply(forecast_values_avg, as.vector))\n",
    "df_holtdamped <- data.frame(lapply(forecast_values_holtdamped, as.vector))\n",
    "# Criar o dataframe previsões finais\n",
    "# Criar um dataframe vazio \n",
    "final_results <- data.frame(dates = as.Date(character()),\n",
    "                            stringsAsFactors = FALSE)\n",
    "dates <- seq(as.Date(\"2019-09-30\"), by = \"7 days\", length.out = 5)\n",
    "final_results <- data.frame(date = dates)\n",
    "# Acrescentar dataframes\n",
    "final_results <- cbind(final_results, df_lm, df_tslm, df_ets, df_stls, df_snaive, df_arimaxreg, df_avg, df_holtdamped)\n",
    "# Ordenar as colunas em ordem alfabética\n",
    "final_results <- final_results[, order(names(final_results))]\n",
    "head(final_results)"
   ]
  },
  {
   "cell_type": "code",
   "execution_count": 10,
   "metadata": {
    "vscode": {
     "languageId": "r"
    }
   },
   "outputs": [],
   "source": [
    "# Exportar resultados\n",
    "path <- file.path(\"C:\", \"Users\", \"Egomes\", \"Desktop\", \"PG_Analytics_Data_science_empresarial\", \"Isla_gaia\", \"14-ProjetoII\", \"projetoII\", \"dataStaging\", \"finalPredictionsModels.csv\")\n",
    "write.csv(final_results, file = path, row.names = FALSE)"
   ]
  }
 ],
 "metadata": {
  "kernelspec": {
   "display_name": "R",
   "language": "R",
   "name": "ir"
  },
  "language_info": {
   "codemirror_mode": "r",
   "file_extension": ".r",
   "mimetype": "text/x-r-source",
   "name": "R",
   "pygments_lexer": "r",
   "version": "4.2.2"
  },
  "orig_nbformat": 4
 },
 "nbformat": 4,
 "nbformat_minor": 2
}
