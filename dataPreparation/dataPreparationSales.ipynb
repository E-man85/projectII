{
 "cells": [
  {
   "attachments": {},
   "cell_type": "markdown",
   "metadata": {},
   "source": [
    "# Data Preparation Sales File"
   ]
  },
  {
   "cell_type": "code",
   "execution_count": 1,
   "metadata": {},
   "outputs": [
    {
     "name": "stdout",
     "output_type": "stream",
     "text": [
      "<class 'pandas.core.frame.DataFrame'>\n",
      "RangeIndex: 8886058 entries, 0 to 8886057\n",
      "Data columns (total 14 columns):\n",
      " #   Column                 Dtype  \n",
      "---  ------                 -----  \n",
      " 0   Unnamed: 0             int64  \n",
      " 1   store_id               object \n",
      " 2   product_id             object \n",
      " 3   date                   object \n",
      " 4   sales                  float64\n",
      " 5   revenue                float64\n",
      " 6   stock                  float64\n",
      " 7   price                  float64\n",
      " 8   promo_type_1           object \n",
      " 9   promo_bin_1            object \n",
      " 10  promo_type_2           object \n",
      " 11  promo_bin_2            object \n",
      " 12  promo_discount_2       float64\n",
      " 13  promo_discount_type_2  object \n",
      "dtypes: float64(5), int64(1), object(8)\n",
      "memory usage: 949.1+ MB\n"
     ]
    }
   ],
   "source": [
    "# Carregar ficheiro\n",
    "import pandas as pd\n",
    "sales = pd.read_csv(r\"C:\\Users\\Egomes\\Desktop\\PG_Analytics_Data_science_empresarial\\Isla_gaia\\14-ProjetoII\\projetoII\\rawData\\sales.csv\",\\\n",
    "                    dtype={'promo_bin_2': str, 'promo_discount_type_2': str})\n",
    "sales.info()"
   ]
  },
  {
   "cell_type": "code",
   "execution_count": 2,
   "metadata": {},
   "outputs": [
    {
     "data": {
      "text/plain": [
       "Index(['id', 'store_id', 'product_id', 'date', 'sales', 'revenue', 'stock',\n",
       "       'price', 'promo_type_1', 'promo_bin_1', 'promo_type_2', 'promo_bin_2',\n",
       "       'promo_discount_2', 'promo_discount_type_2'],\n",
       "      dtype='object')"
      ]
     },
     "execution_count": 2,
     "metadata": {},
     "output_type": "execute_result"
    }
   ],
   "source": [
    "# Renomear coluna \n",
    "sales1 = sales.copy()\n",
    "sales1.rename(columns={'Unnamed: 0': 'id'}, inplace= True) \n",
    "# ver alterações\n",
    "sales1.columns"
   ]
  },
  {
   "cell_type": "markdown",
   "metadata": {},
   "source": [
    "### Retirar NaN da coluna sales"
   ]
  },
  {
   "cell_type": "code",
   "execution_count": 3,
   "metadata": {},
   "outputs": [
    {
     "data": {
      "text/plain": [
       "id                       False\n",
       "store_id                 False\n",
       "product_id               False\n",
       "date                     False\n",
       "sales                    False\n",
       "revenue                  False\n",
       "stock                    False\n",
       "price                     True\n",
       "promo_type_1             False\n",
       "promo_bin_1               True\n",
       "promo_type_2             False\n",
       "promo_bin_2               True\n",
       "promo_discount_2          True\n",
       "promo_discount_type_2     True\n",
       "dtype: bool"
      ]
     },
     "execution_count": 3,
     "metadata": {},
     "output_type": "execute_result"
    }
   ],
   "source": [
    "sales2 = sales1.copy()\n",
    "sales2.dropna(subset=['sales'], inplace= True)\n",
    "sales2.isna().any()"
   ]
  },
  {
   "attachments": {},
   "cell_type": "markdown",
   "metadata": {},
   "source": [
    "### Valores NaN na coluna price pelo preço medio de cada loja"
   ]
  },
  {
   "cell_type": "code",
   "execution_count": 4,
   "metadata": {},
   "outputs": [
    {
     "data": {
      "text/plain": [
       "id                       False\n",
       "store_id                 False\n",
       "product_id               False\n",
       "date                     False\n",
       "sales                    False\n",
       "revenue                  False\n",
       "stock                    False\n",
       "price                    False\n",
       "promo_type_1             False\n",
       "promo_bin_1               True\n",
       "promo_type_2             False\n",
       "promo_bin_2               True\n",
       "promo_discount_2          True\n",
       "promo_discount_type_2     True\n",
       "dtype: bool"
      ]
     },
     "execution_count": 4,
     "metadata": {},
     "output_type": "execute_result"
    }
   ],
   "source": [
    "sales3 = sales2.copy()\n",
    "# Criar variável com lista das lojas unicas\n",
    "stores = sales3['store_id'].unique()\n",
    "# Lista para armazenar os dataframes\n",
    "df_list = []\n",
    "# Loop para criar os DataFrames separados\n",
    "for store in stores:\n",
    "    # Filtrar DataFrame\n",
    "    df_store = sales3[sales3['store_id'] == store].copy()\n",
    "    # Adicionar DataFrame à lista\n",
    "    df_list.append(df_store)\n",
    "# Calcular média price para cada store_id\n",
    "media_precos = {}\n",
    "for df_store in df_list:\n",
    "    media = round(df_store['price'].mean(skipna=True),2)\n",
    "    store_id = df_store['store_id'].iloc[0]\n",
    "    media_precos[store_id] = media\n",
    "# ver numero de dataframe criados\n",
    "len(df_list)\n",
    "# Substituir valores NaN pelo valor correspondente do dicionário em uma coluna específica da store_id\n",
    "sales4 = sales3.copy()\n",
    "sales4['price'].fillna(sales4['store_id'].map(media_precos), inplace=True)\n",
    "sales4.isna().any()"
   ]
  },
  {
   "attachments": {},
   "cell_type": "markdown",
   "metadata": {},
   "source": [
    "### Valores NaN na colunas promo_bin_1, promo_bin_2 , promo_discount_2 , promo_discount_type_2"
   ]
  },
  {
   "cell_type": "code",
   "execution_count": 5,
   "metadata": {},
   "outputs": [
    {
     "data": {
      "text/plain": [
       "id                       False\n",
       "store_id                 False\n",
       "product_id               False\n",
       "date                     False\n",
       "sales                    False\n",
       "revenue                  False\n",
       "stock                    False\n",
       "price                    False\n",
       "promo_type_1             False\n",
       "promo_bin_1              False\n",
       "promo_type_2             False\n",
       "promo_bin_2              False\n",
       "promo_discount_2         False\n",
       "promo_discount_type_2    False\n",
       "dtype: bool"
      ]
     },
     "execution_count": 5,
     "metadata": {},
     "output_type": "execute_result"
    }
   ],
   "source": [
    "sales5 = sales4.copy()\n",
    "# se sales == 0 então promo_bin_1 == 'no_sales'\n",
    "sales5.loc[sales5['sales'] == 0, 'promo_bin_1'] = sales5.loc[sales5['sales'] == 0, 'promo_bin_1'].fillna('no_sales')\n",
    "# se sales == 0 então promo_bin_2 == 'no_sales'\n",
    "sales5.loc[sales5['sales'] == 0, 'promo_bin_2'] = sales5.loc[sales5['sales'] == 0, 'promo_bin_2'].fillna('no_sales')\n",
    "# com sales == 0 substituir nan da coluna promo_discount_2 ==0\n",
    "sales5.loc[sales5['sales'] == 0, 'promo_discount_2'] = sales5.loc[sales5['sales'] == 0, 'promo_discount_2'].fillna(0)\n",
    "# Com sales == 0 substituir nan da coluna promo_discount_type_2 == 'PR00'\n",
    "sales5.loc[sales5['sales'] == 0, 'promo_discount_type_2'] = sales5.loc[sales5['sales'] == 0, 'promo_discount_type_2'].fillna('PR00')\n",
    "# Com sales > 0 substituir nan da coluna promo_bin_1 == 'no_active'\n",
    "sales5.loc[sales5['sales'] > 0, 'promo_bin_1'] = sales5.loc[sales5['sales'] > 0, 'promo_bin_1'].fillna('no_active')\n",
    "# Com sales > 0 substituir nan da coluna promo_bin_2 == 'no_active'\n",
    "sales5.loc[sales5['sales'] > 0, 'promo_bin_2'] = sales5.loc[sales5['sales'] > 0, 'promo_bin_2'].fillna('no_active')\n",
    "# Com sales > 0 substituir nan da coluna promo_discount_2 == 0\n",
    "sales5.loc[sales5['sales'] > 0, 'promo_discount_2'] = sales5.loc[sales5['sales'] > 0, 'promo_discount_2'].fillna(0)\n",
    "# Com sales > 0 substituir nan da coluna promo_discount_2 == 0\n",
    "sales5.loc[sales5['sales'] > 0, 'promo_discount_type_2'] = sales5.loc[sales5['sales'] > 0, 'promo_discount_type_2'].fillna('PR00')\n",
    "sales5.isna().any()"
   ]
  },
  {
   "cell_type": "code",
   "execution_count": 6,
   "metadata": {},
   "outputs": [
    {
     "name": "stdout",
     "output_type": "stream",
     "text": [
      "Exportação concluida!\n"
     ]
    }
   ],
   "source": [
    "# Exportar para csv\n",
    "sales5.to_csv(r\"C:\\Users\\Egomes\\Desktop\\PG_Analytics_Data_science_empresarial\\Isla_gaia\\14-ProjetoII\\projetoII\\dataStaging\\factSales.csv\", index=False)\n",
    "print('Exportação concluida!')"
   ]
  }
 ],
 "metadata": {
  "kernelspec": {
   "display_name": "projectII",
   "language": "python",
   "name": "python3"
  },
  "language_info": {
   "codemirror_mode": {
    "name": "ipython",
    "version": 3
   },
   "file_extension": ".py",
   "mimetype": "text/x-python",
   "name": "python",
   "nbconvert_exporter": "python",
   "pygments_lexer": "ipython3",
   "version": "3.11.3"
  },
  "orig_nbformat": 4
 },
 "nbformat": 4,
 "nbformat_minor": 2
}
