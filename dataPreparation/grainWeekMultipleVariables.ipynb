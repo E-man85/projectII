{
 "cells": [
  {
   "attachments": {},
   "cell_type": "markdown",
   "metadata": {},
   "source": [
    "# Data Preparation Forecast Stores Revenue"
   ]
  },
  {
   "cell_type": "markdown",
   "metadata": {},
   "source": [
    "Esta preparação de dados tem como objetivo, ter os dados em granularidade semanal e adicionar váriáveis exógenas aos nossos dados."
   ]
  },
  {
   "cell_type": "code",
   "execution_count": 1,
   "metadata": {},
   "outputs": [
    {
     "data": {
      "text/plain": [
       "(8583762, 30)"
      ]
     },
     "execution_count": 1,
     "metadata": {},
     "output_type": "execute_result"
    }
   ],
   "source": [
    "# Importar biblioteca\n",
    "import pandas as pd\n",
    "# Carregar a flatTable\n",
    "flatTable = pd.read_csv(\"https://media.githubusercontent.com/media/E-man85/projectII/main/dataStaging/flatTable.csv\")  \n",
    "flatTable.shape"
   ]
  },
  {
   "cell_type": "code",
   "execution_count": 2,
   "metadata": {},
   "outputs": [
    {
     "data": {
      "text/html": [
       "<div>\n",
       "<style scoped>\n",
       "    .dataframe tbody tr th:only-of-type {\n",
       "        vertical-align: middle;\n",
       "    }\n",
       "\n",
       "    .dataframe tbody tr th {\n",
       "        vertical-align: top;\n",
       "    }\n",
       "\n",
       "    .dataframe thead th {\n",
       "        text-align: right;\n",
       "    }\n",
       "</style>\n",
       "<table border=\"1\" class=\"dataframe\">\n",
       "  <thead>\n",
       "    <tr style=\"text-align: right;\">\n",
       "      <th></th>\n",
       "      <th>store_id</th>\n",
       "      <th>city_code</th>\n",
       "      <th>date</th>\n",
       "      <th>latitude</th>\n",
       "      <th>longitude</th>\n",
       "      <th>revenue</th>\n",
       "    </tr>\n",
       "  </thead>\n",
       "  <tbody>\n",
       "    <tr>\n",
       "      <th>0</th>\n",
       "      <td>S0002</td>\n",
       "      <td>Adana</td>\n",
       "      <td>2017-01-02</td>\n",
       "      <td>36.98636</td>\n",
       "      <td>35.325286</td>\n",
       "      <td>171.59</td>\n",
       "    </tr>\n",
       "    <tr>\n",
       "      <th>1</th>\n",
       "      <td>S0002</td>\n",
       "      <td>Adana</td>\n",
       "      <td>2017-01-03</td>\n",
       "      <td>36.98636</td>\n",
       "      <td>35.325286</td>\n",
       "      <td>178.10</td>\n",
       "    </tr>\n",
       "    <tr>\n",
       "      <th>2</th>\n",
       "      <td>S0002</td>\n",
       "      <td>Adana</td>\n",
       "      <td>2017-01-04</td>\n",
       "      <td>36.98636</td>\n",
       "      <td>35.325286</td>\n",
       "      <td>303.89</td>\n",
       "    </tr>\n",
       "    <tr>\n",
       "      <th>3</th>\n",
       "      <td>S0002</td>\n",
       "      <td>Adana</td>\n",
       "      <td>2017-01-05</td>\n",
       "      <td>36.98636</td>\n",
       "      <td>35.325286</td>\n",
       "      <td>274.65</td>\n",
       "    </tr>\n",
       "    <tr>\n",
       "      <th>4</th>\n",
       "      <td>S0002</td>\n",
       "      <td>Adana</td>\n",
       "      <td>2017-01-06</td>\n",
       "      <td>36.98636</td>\n",
       "      <td>35.325286</td>\n",
       "      <td>193.81</td>\n",
       "    </tr>\n",
       "  </tbody>\n",
       "</table>\n",
       "</div>"
      ],
      "text/plain": [
       "  store_id city_code       date  latitude  longitude  revenue\n",
       "0    S0002     Adana 2017-01-02  36.98636  35.325286   171.59\n",
       "1    S0002     Adana 2017-01-03  36.98636  35.325286   178.10\n",
       "2    S0002     Adana 2017-01-04  36.98636  35.325286   303.89\n",
       "3    S0002     Adana 2017-01-05  36.98636  35.325286   274.65\n",
       "4    S0002     Adana 2017-01-06  36.98636  35.325286   193.81"
      ]
     },
     "execution_count": 2,
     "metadata": {},
     "output_type": "execute_result"
    }
   ],
   "source": [
    "# Selecionar dados da flatTable a serem usados\n",
    "flatTable1 = flatTable.copy()\n",
    "# Selecionar colunas\n",
    "columns = ['store_id', 'city_code','date', 'revenue','latitude', 'longitude']\n",
    "flatTable1= flatTable1[columns]\n",
    "# Converter a coluna 'date' em objeto de data\n",
    "flatTable1['date'] = pd.to_datetime(flatTable1['date'])\n",
    "# Agrupar revenue por dia\n",
    "flatTable1 = flatTable1.groupby(['store_id', 'city_code', 'date', 'latitude', 'longitude']).sum('revenue').reset_index()\n",
    "flatTable1.head()"
   ]
  },
  {
   "cell_type": "code",
   "execution_count": 3,
   "metadata": {},
   "outputs": [
    {
     "data": {
      "text/plain": [
       "63"
      ]
     },
     "execution_count": 3,
     "metadata": {},
     "output_type": "execute_result"
    }
   ],
   "source": [
    "# Criar dicionario de dataframes por store_id\n",
    "flatTable2 = flatTable1.copy()\n",
    "# Criar uma lista das lojas únicas\n",
    "stores = flatTable2['store_id'].unique().tolist()\n",
    "# Criar um dicionário para armazenar os dataframes separados\n",
    "df_dict = {}\n",
    "# Loop para criar os dataframes separados\n",
    "for store in stores:\n",
    "    # Filtrar o dataframe com base no valor da loja\n",
    "    df_store = flatTable2[flatTable2['store_id'] == store].copy()\n",
    "    # Redefinir o índice do dataframe\n",
    "    df_store = df_store.reset_index(drop=True)\n",
    "    # Adicionar o dataframe ao dicionário usando o nome da store_id como chave\n",
    "    df_dict[store] = df_store\n",
    "# Ver elementos do dicionario\n",
    "len(df_dict)"
   ]
  },
  {
   "cell_type": "markdown",
   "metadata": {},
   "source": [
    "# Datas ausentes \n",
    "Verificar se em cada loja os registos têm date com frequência diária, e estando em falta, criar registo."
   ]
  },
  {
   "cell_type": "code",
   "execution_count": 4,
   "metadata": {},
   "outputs": [
    {
     "name": "stdout",
     "output_type": "stream",
     "text": [
      "A coluna 'date' da loja ['S0072'] tem datas em falta.\n",
      "A coluna 'date' da loja ['S0136'] tem datas em falta.\n"
     ]
    }
   ],
   "source": [
    "# Verificar datas ausentes tendo em conta a data min e max de date de cada store\n",
    "store_missing_dates = []\n",
    "# Loop para percorrer dataframes do dicionario\n",
    "for df in df_dict.values():\n",
    "# Verificar se a coluna 'date' tem alguma data em falta\n",
    "    date_column = df['date']\n",
    "    if date_column.diff().gt(pd.Timedelta(days=1)).any():\n",
    "        store = df['store_id'].unique()[0]\n",
    "        store_missing_dates.append(store)\n",
    "        print(f\"A coluna 'date' da loja {df['store_id'].unique()} tem datas em falta.\")"
   ]
  },
  {
   "cell_type": "code",
   "execution_count": 5,
   "metadata": {},
   "outputs": [
    {
     "data": {
      "text/plain": [
       "63"
      ]
     },
     "execution_count": 5,
     "metadata": {},
     "output_type": "execute_result"
    }
   ],
   "source": [
    "# Inserir datas em falta\n",
    "df_dict1 = df_dict.copy()\n",
    "# Loop\n",
    "for store in store_missing_dates:\n",
    "    df = df_dict1[store] \n",
    "    latitude = df['latitude'].unique()\n",
    "    longitude = df['longitude'].unique()\n",
    "    city_code = df['city_code'].unique()\n",
    "# Definir a coluna 'date' como o índice do dataframe\n",
    "    df = df.set_index('date')\n",
    "# Obter a data mínima e máxima do dataframe\n",
    "    data_min = df.index.min()\n",
    "    data_max = pd.to_datetime('2019-09-30')  # Definir data_max como '2019-09-30'\n",
    "# Gerar o intervalo completo de datas\n",
    "    intervalo_datas = pd.date_range(start=data_min, end=data_max).date\n",
    "# Reindexar o dataframe com o intervalo completo de datas\n",
    "    df = df.reindex(intervalo_datas)\n",
    "# Verificar e preencher os valores ausentes\n",
    "    df['store_id'].fillna(store, inplace=True)\n",
    "    df['revenue'].fillna(0, inplace=True)\n",
    "    df['latitude'].fillna(latitude[0], inplace = True)\n",
    "    df['longitude'].fillna(longitude[0], inplace = True)\n",
    "    df['city_code'].fillna(city_code[0],inplace = True)\n",
    "# Reset do índice do dataframe\n",
    "    df = df.reset_index()\n",
    "    # Reordenar as colunas\n",
    "    df = df[['store_id', 'city_code', 'date', 'latitude', 'longitude' , 'revenue']]\n",
    "    df_dict1[store] = df\n",
    "# Ver elementos do dicionario\n",
    "len(df_dict1)"
   ]
  },
  {
   "attachments": {},
   "cell_type": "markdown",
   "metadata": {},
   "source": [
    "## Criação de variável temperature\n",
    "\n",
    "A variável temperature é a temperatura média registada em cada dia, usando a localização da cidade onde está localizada"
   ]
  },
  {
   "cell_type": "code",
   "execution_count": 6,
   "metadata": {},
   "outputs": [],
   "source": [
    "# Dados meteorológicos\n",
    "# Juntar todos os DataFrames em um único DataFrame\n",
    "df_dict2 = df_dict1.copy()\n",
    "df_concatenado = pd.concat(df_dict2.values())\n",
    "# Criar dimensão do tempo com city_code, latitude, longitude , min_date, max_date\n",
    "dim_temp = df_concatenado.copy()\n",
    "dim_temp = dim_temp[['date', 'city_code', 'latitude', 'longitude']]\n",
    "dim_temp['date'] = pd.to_datetime(dim_temp['date'])\n",
    "dim_temp = dim_temp.drop_duplicates()\n",
    "# Obter as datas mínima e máxima\n",
    "min_date = dim_temp['date'].min().to_pydatetime().date()\n",
    "max_date = dim_temp['date'].max().to_pydatetime().date()\n",
    "# Converter as datas para strings\n",
    "min_date_str = min_date.strftime('%Y-%m-%d')\n",
    "max_date_str = max_date.strftime('%Y-%m-%d')\n",
    "# Remover a coluna 'date'\n",
    "dim_temp = dim_temp.drop('date', axis=1)\n",
    "# Adicionar as colunas 'min_date' e 'max_date'\n",
    "dim_temp['min_date'] = min_date_str\n",
    "dim_temp['max_date'] = max_date_str\n",
    "dim_temp = dim_temp.drop_duplicates()\n",
    "# Quantidade de registos únicos criados\n",
    "len(dim_temp)"
   ]
  },
  {
   "cell_type": "code",
   "execution_count": 9,
   "metadata": {},
   "outputs": [],
   "source": [
    "# Lista city\n",
    "city_list = list(dim_temp['city_code'].unique())\n",
    "# lista armazenar temperturas das city\n",
    "from datetime import datetime, timedelta\n",
    "city_temp_list = []\n",
    "import requests\n",
    "for city in city_list:\n",
    "    row = dim_temp[dim_temp['city_code']== city ]\n",
    "    latitude = row['latitude'].values[0]\n",
    "    longitude = row['longitude'].values[0]\n",
    "    start_date = row['min_date'].values[0]\n",
    "    end_date = row['max_date'].values[0]\n",
    "    # Adicionar um dia à variável end_date\n",
    "    end_date = datetime.strptime(end_date, '%Y-%m-%d')\n",
    "    end_date = end_date + timedelta(days=1)\n",
    "    end_date = end_date.strftime('%Y-%m-%d')\n",
    "# API\n",
    "    link = f\"https://archive-api.open-meteo.com/v1/archive?latitude={latitude}&longitude={longitude}1&start_date={start_date}&end_date={end_date}&daily=temperature_2m_mean&timeformat=unixtime&timezone=Europe%2FLondon\"\n",
    "    req = requests.get(link)\n",
    "    dict = req.json()\n",
    "    selct_dict = dict['daily']\n",
    "    city_temp_list.append(selct_dict)"
   ]
  },
  {
   "cell_type": "code",
   "execution_count": 15,
   "metadata": {},
   "outputs": [
    {
     "data": {
      "text/html": [
       "<div>\n",
       "<style scoped>\n",
       "    .dataframe tbody tr th:only-of-type {\n",
       "        vertical-align: middle;\n",
       "    }\n",
       "\n",
       "    .dataframe tbody tr th {\n",
       "        vertical-align: top;\n",
       "    }\n",
       "\n",
       "    .dataframe thead th {\n",
       "        text-align: right;\n",
       "    }\n",
       "</style>\n",
       "<table border=\"1\" class=\"dataframe\">\n",
       "  <thead>\n",
       "    <tr style=\"text-align: right;\">\n",
       "      <th></th>\n",
       "      <th>store_id</th>\n",
       "      <th>city_code</th>\n",
       "      <th>date</th>\n",
       "      <th>latitude</th>\n",
       "      <th>longitude</th>\n",
       "      <th>revenue</th>\n",
       "      <th>temperature</th>\n",
       "    </tr>\n",
       "  </thead>\n",
       "  <tbody>\n",
       "    <tr>\n",
       "      <th>0</th>\n",
       "      <td>S0002</td>\n",
       "      <td>Adana</td>\n",
       "      <td>2017-01-02</td>\n",
       "      <td>36.98636</td>\n",
       "      <td>35.325286</td>\n",
       "      <td>171.59</td>\n",
       "      <td>6.6</td>\n",
       "    </tr>\n",
       "    <tr>\n",
       "      <th>1</th>\n",
       "      <td>S0002</td>\n",
       "      <td>Adana</td>\n",
       "      <td>2017-01-03</td>\n",
       "      <td>36.98636</td>\n",
       "      <td>35.325286</td>\n",
       "      <td>178.10</td>\n",
       "      <td>6.7</td>\n",
       "    </tr>\n",
       "    <tr>\n",
       "      <th>2</th>\n",
       "      <td>S0002</td>\n",
       "      <td>Adana</td>\n",
       "      <td>2017-01-04</td>\n",
       "      <td>36.98636</td>\n",
       "      <td>35.325286</td>\n",
       "      <td>303.89</td>\n",
       "      <td>7.4</td>\n",
       "    </tr>\n",
       "    <tr>\n",
       "      <th>3</th>\n",
       "      <td>S0002</td>\n",
       "      <td>Adana</td>\n",
       "      <td>2017-01-05</td>\n",
       "      <td>36.98636</td>\n",
       "      <td>35.325286</td>\n",
       "      <td>274.65</td>\n",
       "      <td>9.3</td>\n",
       "    </tr>\n",
       "    <tr>\n",
       "      <th>4</th>\n",
       "      <td>S0002</td>\n",
       "      <td>Adana</td>\n",
       "      <td>2017-01-06</td>\n",
       "      <td>36.98636</td>\n",
       "      <td>35.325286</td>\n",
       "      <td>193.81</td>\n",
       "      <td>9.0</td>\n",
       "    </tr>\n",
       "  </tbody>\n",
       "</table>\n",
       "</div>"
      ],
      "text/plain": [
       "  store_id city_code       date  latitude  longitude  revenue  temperature\n",
       "0    S0002     Adana 2017-01-02  36.98636  35.325286   171.59          6.6\n",
       "1    S0002     Adana 2017-01-03  36.98636  35.325286   178.10          6.7\n",
       "2    S0002     Adana 2017-01-04  36.98636  35.325286   303.89          7.4\n",
       "3    S0002     Adana 2017-01-05  36.98636  35.325286   274.65          9.3\n",
       "4    S0002     Adana 2017-01-06  36.98636  35.325286   193.81          9.0"
      ]
     },
     "execution_count": 15,
     "metadata": {},
     "output_type": "execute_result"
    }
   ],
   "source": [
    "# Transformar em dataframes as temperaturas\n",
    "df_city_temp_list = []\n",
    "for i in range(len(city_temp_list)):\n",
    "    df = pd.DataFrame(city_temp_list[i])\n",
    "    # Adicionar coluna city_code\n",
    "    df.insert(0,'city_code',city_list[i])\n",
    "# Converter Unix Time para formato de data\n",
    "    df['date'] = pd.to_datetime(df['time'], unit='s').dt.strftime('%Y-%m-%d')\n",
    "    df.drop('time', axis=1, inplace=True)\n",
    "    df_city_temp_list.append(df)\n",
    "# Tranformar as listas de df em df único\n",
    "combined_df = pd.concat(df_city_temp_list, ignore_index=True)\n",
    "combined_df['date'] = pd.to_datetime(combined_df['date'])\n",
    "# Adicionar temperature ao dataframe principal\n",
    "df_concatenado1 = df_concatenado.copy()\n",
    "# Converter a coluna \"date\" para datetime\n",
    "df_concatenado1['date'] = pd.to_datetime(df_concatenado1['date'])\n",
    "df_concatenado1 = df_concatenado1.merge(combined_df, on = ['city_code', 'date'], how = 'left')\n",
    "df_concatenado1.rename(columns={'temperature_2m_mean': 'temperature'}, inplace=True)\n",
    "df_concatenado1.head()"
   ]
  },
  {
   "cell_type": "markdown",
   "metadata": {},
   "source": [
    "## Agrupar registos em granularidade semanal"
   ]
  },
  {
   "cell_type": "code",
   "execution_count": 16,
   "metadata": {},
   "outputs": [
    {
     "data": {
      "text/plain": [
       "63"
      ]
     },
     "execution_count": 16,
     "metadata": {},
     "output_type": "execute_result"
    }
   ],
   "source": [
    "# Voltar a criar dicionario de dataframes por store_id\n",
    "df_concatenado2 = df_concatenado1.copy()\n",
    "# Criar uma lista das lojas únicas\n",
    "stores = df_concatenado2['store_id'].unique().tolist()\n",
    "# Criar um dicionário para armazenar os dataframes separados\n",
    "df_dict3 = {}\n",
    "# Loop para criar os dataframes separados\n",
    "for store in stores:\n",
    "    # Filtrar o dataframe com base no valor da loja\n",
    "    df_store = df_concatenado2[df_concatenado2['store_id'] == store].copy()\n",
    "    # Redefinir o índice do dataframe\n",
    "    df_store = df_store.reset_index(drop=True)\n",
    "    # Adicionar o dataframe ao dicionário usando o nome da store_id como chave\n",
    "    df_dict3[store] = df_store\n",
    "# Criar um dicionario para armazenar os dataframes com granularidade semanal\n",
    "import numpy as np\n",
    "df_dict_week = {}\n",
    "for key, df in df_dict3.items():\n",
    "    # Converter coluna 'date' para tipo datetime\n",
    "    df['date'] = pd.to_datetime(df['date'])\n",
    "    # Definir a coluna 'date' como o índice do DataFrame\n",
    "    df = df.set_index('date')\n",
    "    # Resample para dados semanais e soma dos valores\n",
    "    df_weekly = df.groupby(['store_id']).resample('W').agg({ 'revenue': np.sum, 'temperature': np.mean }).reset_index()\n",
    "    df_weekly = df_weekly.rename(columns={'revenue': 'summed_revenue', 'temperature': 'mean_week_temperature'  })\n",
    "    # Retirar ultimo registo uma vez que não existem 7 dias completos de dados\n",
    "    df_weekly = df_weekly.groupby('store_id').apply(lambda x: x.iloc[:-1]).reset_index(drop=True)\n",
    "    df_dict_week[key] = df_weekly\n",
    "# Ver elementos da lista\n",
    "len(df_dict_week)"
   ]
  },
  {
   "attachments": {},
   "cell_type": "markdown",
   "metadata": {},
   "source": [
    "## Criação de nova variável season\n",
    "\n",
    "Primavera: Março-Abril-Maio.\n",
    "\n",
    "Verão: Junho- Julho-Agosto.\n",
    "\n",
    "Outono: Setembro-Outubro-Novembro.\n",
    "\n",
    "Inverno: Dezembro-Janeiro-Fevereiro."
   ]
  },
  {
   "cell_type": "code",
   "execution_count": 18,
   "metadata": {},
   "outputs": [
    {
     "data": {
      "text/plain": [
       "63"
      ]
     },
     "execution_count": 18,
     "metadata": {},
     "output_type": "execute_result"
    }
   ],
   "source": [
    "df_dict_week1 = df_dict_week.copy()\n",
    "for key, df in df_dict_week1.items():\n",
    "# Criar uma coluna \"season\" no dataframe\n",
    "    df['season'] = ''\n",
    "# Mapear as datas para as estações correspondentes\n",
    "    df.loc[df['date'].dt.month.isin([3, 4, 5]), 'season'] = 'spring'\n",
    "    df.loc[df['date'].dt.month.isin([6, 7, 8]), 'season'] = 'summer'\n",
    "    df.loc[df['date'].dt.month.isin([9, 10, 11]), 'season'] = 'autumn'\n",
    "    df.loc[df['date'].dt.month.isin([12, 1, 2]), 'season'] = 'winter'\n",
    "    df_dict_week1[key] = df\n",
    "# Ver elementos do dicionario\n",
    "len(df_dict_week1)"
   ]
  },
  {
   "attachments": {},
   "cell_type": "markdown",
   "metadata": {},
   "source": [
    "## Criação de variável holiday\n",
    "\n",
    "Feriados Fixos\n",
    "\n",
    "Data\tFeriado\tNome local\n",
    "\n",
    "30 ago.\tDia da Vitória\tZafer Bayramı\n",
    "\n",
    "9 set.\tDia da Libertação de İzmir\tKurtuluş Savaşı\n",
    "\n",
    "19 set.\tDia dos Veteranos\tGaziler Günü\n",
    "\n",
    "29 out.\tDia da República\tCumhuriyet Bayramı"
   ]
  },
  {
   "cell_type": "code",
   "execution_count": 19,
   "metadata": {},
   "outputs": [
    {
     "data": {
      "text/plain": [
       "63"
      ]
     },
     "execution_count": 19,
     "metadata": {},
     "output_type": "execute_result"
    }
   ],
   "source": [
    "from datetime import date, timedelta\n",
    "# Lista dos feriados fixos nos anos dos nossos dados\n",
    "feriados_fixos = [\n",
    "    (date(2017, 8, 30), \"Dia da Vitória\"),\n",
    "    (date(2017, 9, 9), \"Dia da Libertação de İzmir\"),\n",
    "    (date(2017, 9, 19), \"Dia dos Veteranos\"),\n",
    "    (date(2017, 10, 29), \"Dia da República\"),\n",
    "    (date(2018, 8, 30), \"Dia da Vitória\"),\n",
    "    (date(2018, 9, 9), \"Dia da Libertação de İzmir\"),\n",
    "    (date(2018, 9, 19), \"Dia dos Veteranos\"),\n",
    "    (date(2018, 10, 29), \"Dia da República\"),\n",
    "    (date(2019, 8, 30), \"Dia da Vitória\"),\n",
    "    (date(2019, 9, 9), \"Dia da Libertação de İzmir\"),\n",
    "    (date(2019, 9, 19), \"Dia dos Veteranos\"),\n",
    "    (date(2019, 10, 29), \"Dia da República\")\n",
    "]\n",
    "# Função para verificar se existe um feriado entre as datas\n",
    "def verificar_feriado(row):\n",
    "    for feriado, nome in feriados_fixos:\n",
    "        if row['date'].date() <= feriado <= (row['date'] + timedelta(days=6)).date():\n",
    "            return 1\n",
    "    return 0\n",
    "df_dict_week2 = df_dict_week1.copy()\n",
    "#loop\n",
    "for key, df in df_dict_week2.items():\n",
    "    # Aplicar a função a cada linha do DataFrame e adicionar a nova coluna\n",
    "    df['holiday'] = df.apply(verificar_feriado, axis=1)\n",
    "    df_dict_week1[key] = df  \n",
    "# Ver elementos do dicionario\n",
    "len(df_dict_week2)"
   ]
  },
  {
   "cell_type": "markdown",
   "metadata": {},
   "source": [
    "## Criação de variável number month"
   ]
  },
  {
   "cell_type": "code",
   "execution_count": 20,
   "metadata": {},
   "outputs": [
    {
     "data": {
      "text/plain": [
       "63"
      ]
     },
     "execution_count": 20,
     "metadata": {},
     "output_type": "execute_result"
    }
   ],
   "source": [
    "## Criação de variável month\n",
    "df_dict_week3 = df_dict_week2.copy()\n",
    "#loop\n",
    "for key, df in df_dict_week3.items():\n",
    "    # \n",
    "    df['number_month'] = df['date'].dt.month\n",
    "    df_dict_week3[key] = df \n",
    "# Ver elementos do dicionario\n",
    "len(df_dict_week3)"
   ]
  },
  {
   "cell_type": "markdown",
   "metadata": {},
   "source": [
    "## Criação de variável number week"
   ]
  },
  {
   "cell_type": "code",
   "execution_count": 30,
   "metadata": {},
   "outputs": [
    {
     "data": {
      "text/html": [
       "<div>\n",
       "<style scoped>\n",
       "    .dataframe tbody tr th:only-of-type {\n",
       "        vertical-align: middle;\n",
       "    }\n",
       "\n",
       "    .dataframe tbody tr th {\n",
       "        vertical-align: top;\n",
       "    }\n",
       "\n",
       "    .dataframe thead th {\n",
       "        text-align: right;\n",
       "    }\n",
       "</style>\n",
       "<table border=\"1\" class=\"dataframe\">\n",
       "  <thead>\n",
       "    <tr style=\"text-align: right;\">\n",
       "      <th></th>\n",
       "      <th>store_id</th>\n",
       "      <th>date</th>\n",
       "      <th>summed_revenue</th>\n",
       "      <th>mean_week_temperature</th>\n",
       "      <th>season</th>\n",
       "      <th>holiday</th>\n",
       "      <th>number_month</th>\n",
       "      <th>number_week</th>\n",
       "    </tr>\n",
       "  </thead>\n",
       "  <tbody>\n",
       "    <tr>\n",
       "      <th>0</th>\n",
       "      <td>S0002</td>\n",
       "      <td>2017-01-08</td>\n",
       "      <td>1813.24</td>\n",
       "      <td>7.828571</td>\n",
       "      <td>winter</td>\n",
       "      <td>0</td>\n",
       "      <td>1</td>\n",
       "      <td>1</td>\n",
       "    </tr>\n",
       "    <tr>\n",
       "      <th>1</th>\n",
       "      <td>S0002</td>\n",
       "      <td>2017-01-15</td>\n",
       "      <td>1896.91</td>\n",
       "      <td>7.071429</td>\n",
       "      <td>winter</td>\n",
       "      <td>0</td>\n",
       "      <td>1</td>\n",
       "      <td>2</td>\n",
       "    </tr>\n",
       "    <tr>\n",
       "      <th>2</th>\n",
       "      <td>S0002</td>\n",
       "      <td>2017-01-22</td>\n",
       "      <td>7404.16</td>\n",
       "      <td>7.142857</td>\n",
       "      <td>winter</td>\n",
       "      <td>0</td>\n",
       "      <td>1</td>\n",
       "      <td>3</td>\n",
       "    </tr>\n",
       "    <tr>\n",
       "      <th>3</th>\n",
       "      <td>S0002</td>\n",
       "      <td>2017-01-29</td>\n",
       "      <td>2078.39</td>\n",
       "      <td>5.614286</td>\n",
       "      <td>winter</td>\n",
       "      <td>0</td>\n",
       "      <td>1</td>\n",
       "      <td>4</td>\n",
       "    </tr>\n",
       "    <tr>\n",
       "      <th>4</th>\n",
       "      <td>S0002</td>\n",
       "      <td>2017-02-05</td>\n",
       "      <td>1745.47</td>\n",
       "      <td>4.714286</td>\n",
       "      <td>winter</td>\n",
       "      <td>0</td>\n",
       "      <td>2</td>\n",
       "      <td>5</td>\n",
       "    </tr>\n",
       "  </tbody>\n",
       "</table>\n",
       "</div>"
      ],
      "text/plain": [
       "  store_id       date  summed_revenue  mean_week_temperature  season  holiday  \\\n",
       "0    S0002 2017-01-08         1813.24               7.828571  winter        0   \n",
       "1    S0002 2017-01-15         1896.91               7.071429  winter        0   \n",
       "2    S0002 2017-01-22         7404.16               7.142857  winter        0   \n",
       "3    S0002 2017-01-29         2078.39               5.614286  winter        0   \n",
       "4    S0002 2017-02-05         1745.47               4.714286  winter        0   \n",
       "\n",
       "   number_month  number_week  \n",
       "0             1            1  \n",
       "1             1            2  \n",
       "2             1            3  \n",
       "3             1            4  \n",
       "4             2            5  "
      ]
     },
     "execution_count": 30,
     "metadata": {},
     "output_type": "execute_result"
    }
   ],
   "source": [
    "# Concatenar os DataFrames do  em um único DataFrame\n",
    "combined_df = pd.concat(df_dict_week3.values())\n",
    "import datetime\n",
    "# Função para determinar o numero da semana\n",
    "def week_of_year(date):\n",
    "    date_str = date.strftime(\"%Y-%m-%d\")  # Convert Timestamp to string\n",
    "    data_obj = datetime.datetime.strptime(date_str, \"%Y-%m-%d\")\n",
    "    week_year = data_obj.isocalendar()[1]\n",
    "    return week_year\n",
    "combined_df['number_week'] = combined_df['date'].apply(week_of_year)\n",
    "combined_df.head()"
   ]
  },
  {
   "cell_type": "code",
   "execution_count": 33,
   "metadata": {},
   "outputs": [
    {
     "name": "stdout",
     "output_type": "stream",
     "text": [
      "Exportação concluida!\n"
     ]
    }
   ],
   "source": [
    "# Criar csv para consulta quando necessário\n",
    "combined_df.to_csv(r\"C:\\Users\\Egomes\\Desktop\\PG_Analytics_Data_science_empresarial\\Isla_gaia\\14-ProjetoII\\projetoII\\dataStaging\\grainWeekMultipleVariables.csv\", index=False)\n",
    "print('Exportação concluida!')"
   ]
  }
 ],
 "metadata": {
  "kernelspec": {
   "display_name": "projectII",
   "language": "python",
   "name": "python3"
  },
  "language_info": {
   "codemirror_mode": {
    "name": "ipython",
    "version": 3
   },
   "file_extension": ".py",
   "mimetype": "text/x-python",
   "name": "python",
   "nbconvert_exporter": "python",
   "pygments_lexer": "ipython3",
   "version": "3.11.3"
  },
  "orig_nbformat": 4
 },
 "nbformat": 4,
 "nbformat_minor": 2
}
