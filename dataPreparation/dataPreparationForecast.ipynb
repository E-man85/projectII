{
 "cells": [
  {
   "attachments": {},
   "cell_type": "markdown",
   "metadata": {},
   "source": [
    "# Data Preparation Forecast Stores Revenue"
   ]
  },
  {
   "cell_type": "code",
   "execution_count": 1,
   "metadata": {},
   "outputs": [
    {
     "data": {
      "text/plain": [
       "(8886058, 28)"
      ]
     },
     "execution_count": 1,
     "metadata": {},
     "output_type": "execute_result"
    }
   ],
   "source": [
    "# Importar biblioteca\n",
    "import pandas as pd\n",
    "# Carregar a flatTable\n",
    "flatTable = pd.read_csv(r\"C:\\Users\\Egomes\\Desktop\\PG_Analytics_Data_science_empresarial\\Isla_gaia\\14-ProjetoII\\projetoII\\dataStaging\\flatTable.csv\",\\\n",
    "                        dtype={'promo_bin_2': str, 'promo_discount_type_2': str})    \n",
    "flatTable.shape"
   ]
  },
  {
   "cell_type": "code",
   "execution_count": 2,
   "metadata": {},
   "outputs": [
    {
     "name": "stdout",
     "output_type": "stream",
     "text": [
      "<class 'pandas.core.frame.DataFrame'>\n",
      "RangeIndex: 8886058 entries, 0 to 8886057\n",
      "Data columns (total 28 columns):\n",
      " #   Column                 Dtype  \n",
      "---  ------                 -----  \n",
      " 0   Unnamed: 0             int64  \n",
      " 1   store_id               object \n",
      " 2   product_id             object \n",
      " 3   date                   object \n",
      " 4   sales                  float64\n",
      " 5   revenue                float64\n",
      " 6   stock                  float64\n",
      " 7   price                  float64\n",
      " 8   promo_type_1           object \n",
      " 9   promo_bin_1            object \n",
      " 10  promo_type_2           object \n",
      " 11  promo_bin_2            object \n",
      " 12  promo_discount_2       float64\n",
      " 13  promo_discount_type_2  object \n",
      " 14  product_length         float64\n",
      " 15  product_depth          float64\n",
      " 16  product_width          float64\n",
      " 17  cluster_id             object \n",
      " 18  hierarchy1_id          object \n",
      " 19  hierarchy2_id          object \n",
      " 20  hierarchy3_id          object \n",
      " 21  hierarchy4_id          object \n",
      " 22  hierarchy5_id          object \n",
      " 23  storetype_id           object \n",
      " 24  store_size             int64  \n",
      " 25  city_id_old            object \n",
      " 26  country_id             object \n",
      " 27  city_code              object \n",
      "dtypes: float64(8), int64(2), object(18)\n",
      "memory usage: 1.9+ GB\n"
     ]
    }
   ],
   "source": [
    "# ver info\n",
    "flatTable.info()"
   ]
  },
  {
   "cell_type": "code",
   "execution_count": 3,
   "metadata": {},
   "outputs": [
    {
     "data": {
      "text/plain": [
       "Index(['Unnamed: 0', 'store_id', 'product_id', 'date', 'sales', 'revenue',\n",
       "       'stock', 'price', 'promo_type_1', 'promo_bin_1', 'promo_type_2',\n",
       "       'promo_bin_2', 'promo_discount_2', 'promo_discount_type_2',\n",
       "       'product_length', 'product_depth', 'product_width', 'cluster_id',\n",
       "       'hierarchy1_id', 'hierarchy2_id', 'hierarchy3_id', 'hierarchy4_id',\n",
       "       'hierarchy5_id', 'storetype_id', 'store_size', 'city_id_old',\n",
       "       'country_id', 'city_code'],\n",
       "      dtype='object')"
      ]
     },
     "execution_count": 3,
     "metadata": {},
     "output_type": "execute_result"
    }
   ],
   "source": [
    "# Ver colunas\n",
    "flatTable.columns"
   ]
  },
  {
   "cell_type": "code",
   "execution_count": 4,
   "metadata": {},
   "outputs": [
    {
     "data": {
      "text/plain": [
       "Index(['id', 'store_id', 'product_id', 'date', 'sales', 'revenue', 'stock',\n",
       "       'price', 'promo_type_1', 'promo_bin_1', 'promo_type_2', 'promo_bin_2',\n",
       "       'promo_discount_2', 'promo_discount_type_2', 'product_length',\n",
       "       'product_depth', 'product_width', 'cluster_id', 'hierarchy1_id',\n",
       "       'hierarchy2_id', 'hierarchy3_id', 'hierarchy4_id', 'hierarchy5_id',\n",
       "       'storetype_id', 'store_size', 'city_id_old', 'country_id', 'city_code'],\n",
       "      dtype='object')"
      ]
     },
     "execution_count": 4,
     "metadata": {},
     "output_type": "execute_result"
    }
   ],
   "source": [
    "# Renomear colunas\n",
    "flatTable1 = flatTable.copy()\n",
    "flatTable1 =flatTable.rename(columns={'Unnamed: 0': 'id'}) \n",
    "# ver alterações\n",
    "flatTable1.columns"
   ]
  },
  {
   "cell_type": "code",
   "execution_count": 5,
   "metadata": {},
   "outputs": [
    {
     "data": {
      "text/plain": [
       "id                       False\n",
       "store_id                 False\n",
       "product_id               False\n",
       "date                     False\n",
       "sales                     True\n",
       "revenue                   True\n",
       "stock                     True\n",
       "price                     True\n",
       "promo_type_1             False\n",
       "promo_bin_1               True\n",
       "promo_type_2             False\n",
       "promo_bin_2               True\n",
       "promo_discount_2          True\n",
       "promo_discount_type_2     True\n",
       "product_length            True\n",
       "product_depth             True\n",
       "product_width             True\n",
       "cluster_id               False\n",
       "hierarchy1_id            False\n",
       "hierarchy2_id            False\n",
       "hierarchy3_id            False\n",
       "hierarchy4_id            False\n",
       "hierarchy5_id            False\n",
       "storetype_id             False\n",
       "store_size               False\n",
       "city_id_old              False\n",
       "country_id               False\n",
       "city_code                False\n",
       "dtype: bool"
      ]
     },
     "execution_count": 5,
     "metadata": {},
     "output_type": "execute_result"
    }
   ],
   "source": [
    "# Verificar NAN das colunas\n",
    "flatTable1.isna().any()"
   ]
  },
  {
   "cell_type": "code",
   "execution_count": 6,
   "metadata": {},
   "outputs": [
    {
     "data": {
      "text/plain": [
       "(8583762, 28)"
      ]
     },
     "execution_count": 6,
     "metadata": {},
     "output_type": "execute_result"
    }
   ],
   "source": [
    "# Retirar valores nan existentes na coluna sales\n",
    "flatTable2 = flatTable1.copy()\n",
    "flatTable2 = flatTable2.dropna(subset=['sales'])\n",
    "flatTable2.shape"
   ]
  },
  {
   "cell_type": "code",
   "execution_count": 8,
   "metadata": {},
   "outputs": [
    {
     "data": {
      "text/plain": [
       "id                       False\n",
       "store_id                 False\n",
       "product_id               False\n",
       "date                     False\n",
       "sales                    False\n",
       "revenue                  False\n",
       "stock                    False\n",
       "price                     True\n",
       "promo_type_1             False\n",
       "promo_bin_1               True\n",
       "promo_type_2             False\n",
       "promo_bin_2               True\n",
       "promo_discount_2          True\n",
       "promo_discount_type_2     True\n",
       "product_length            True\n",
       "product_depth             True\n",
       "product_width             True\n",
       "cluster_id               False\n",
       "hierarchy1_id            False\n",
       "hierarchy2_id            False\n",
       "hierarchy3_id            False\n",
       "hierarchy4_id            False\n",
       "hierarchy5_id            False\n",
       "storetype_id             False\n",
       "store_size               False\n",
       "city_id_old              False\n",
       "country_id               False\n",
       "city_code                False\n",
       "dtype: bool"
      ]
     },
     "execution_count": 8,
     "metadata": {},
     "output_type": "execute_result"
    }
   ],
   "source": [
    "# Verificar NAN das colunas\n",
    "flatTable2.isna().any()"
   ]
  },
  {
   "cell_type": "code",
   "execution_count": 9,
   "metadata": {},
   "outputs": [
    {
     "data": {
      "text/plain": [
       "(8583762, 3)"
      ]
     },
     "execution_count": 9,
     "metadata": {},
     "output_type": "execute_result"
    }
   ],
   "source": [
    "# Seleção de colunas necessária \n",
    "flatTable3 = flatTable2.copy()\n",
    "columns = ['store_id', 'date', 'revenue']\n",
    "flatTable3 = flatTable3[columns]\n",
    "flatTable3.shape"
   ]
  },
  {
   "cell_type": "code",
   "execution_count": 10,
   "metadata": {},
   "outputs": [
    {
     "data": {
      "text/html": [
       "<div>\n",
       "<style scoped>\n",
       "    .dataframe tbody tr th:only-of-type {\n",
       "        vertical-align: middle;\n",
       "    }\n",
       "\n",
       "    .dataframe tbody tr th {\n",
       "        vertical-align: top;\n",
       "    }\n",
       "\n",
       "    .dataframe thead th {\n",
       "        text-align: right;\n",
       "    }\n",
       "</style>\n",
       "<table border=\"1\" class=\"dataframe\">\n",
       "  <thead>\n",
       "    <tr style=\"text-align: right;\">\n",
       "      <th></th>\n",
       "      <th>store_id</th>\n",
       "      <th>date</th>\n",
       "      <th>summed_revenue</th>\n",
       "    </tr>\n",
       "  </thead>\n",
       "  <tbody>\n",
       "    <tr>\n",
       "      <th>0</th>\n",
       "      <td>S0002</td>\n",
       "      <td>2017-01-02</td>\n",
       "      <td>171.59</td>\n",
       "    </tr>\n",
       "    <tr>\n",
       "      <th>1</th>\n",
       "      <td>S0002</td>\n",
       "      <td>2017-01-03</td>\n",
       "      <td>178.10</td>\n",
       "    </tr>\n",
       "    <tr>\n",
       "      <th>2</th>\n",
       "      <td>S0002</td>\n",
       "      <td>2017-01-04</td>\n",
       "      <td>303.89</td>\n",
       "    </tr>\n",
       "    <tr>\n",
       "      <th>3</th>\n",
       "      <td>S0002</td>\n",
       "      <td>2017-01-05</td>\n",
       "      <td>274.65</td>\n",
       "    </tr>\n",
       "    <tr>\n",
       "      <th>4</th>\n",
       "      <td>S0002</td>\n",
       "      <td>2017-01-06</td>\n",
       "      <td>193.81</td>\n",
       "    </tr>\n",
       "  </tbody>\n",
       "</table>\n",
       "</div>"
      ],
      "text/plain": [
       "  store_id        date  summed_revenue\n",
       "0    S0002  2017-01-02          171.59\n",
       "1    S0002  2017-01-03          178.10\n",
       "2    S0002  2017-01-04          303.89\n",
       "3    S0002  2017-01-05          274.65\n",
       "4    S0002  2017-01-06          193.81"
      ]
     },
     "execution_count": 10,
     "metadata": {},
     "output_type": "execute_result"
    }
   ],
   "source": [
    "# Agrupar dados por date e store_id somando o revenue\n",
    "flatTable4 = flatTable3.copy()\n",
    "flatTable4 = flatTable4.groupby(['store_id','date'])['revenue'].sum().reset_index().rename(columns={'revenue': 'summed_revenue'})\n",
    "# Ver 5 linhas\n",
    "flatTable4.head()"
   ]
  },
  {
   "cell_type": "code",
   "execution_count": 12,
   "metadata": {},
   "outputs": [
    {
     "name": "stdout",
     "output_type": "stream",
     "text": [
      "exportação concluida!\n"
     ]
    }
   ],
   "source": [
    "# criar csv para consulta quando necessário\n",
    "flatTable4.to_csv(r\"C:\\Users\\Egomes\\Desktop\\PG_Analytics_Data_science_empresarial\\Isla_gaia\\14-ProjetoII\\projetoII\\dataStaging\\forecastRevenue.csv\", index=False)\n",
    "print('exportação concluida!')"
   ]
  }
 ],
 "metadata": {
  "kernelspec": {
   "display_name": "projectII",
   "language": "python",
   "name": "python3"
  },
  "language_info": {
   "codemirror_mode": {
    "name": "ipython",
    "version": 3
   },
   "file_extension": ".py",
   "mimetype": "text/x-python",
   "name": "python",
   "nbconvert_exporter": "python",
   "pygments_lexer": "ipython3",
   "version": "3.11.3"
  },
  "orig_nbformat": 4
 },
 "nbformat": 4,
 "nbformat_minor": 2
}
